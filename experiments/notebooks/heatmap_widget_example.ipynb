{
 "cells": [
  {
   "cell_type": "markdown",
   "metadata": {
    "vscode": {
     "languageId": "raw"
    }
   },
   "source": [
    "# Interactive Heatmap Widget Example\n",
    "\n",
    "This notebook demonstrates how to use the `HeatmapWidget` - an anywidget-based implementation of the observatory heatmap component for Jupyter notebooks.\n",
    "\n",
    "The widget provides interactive policy evaluation heatmaps with:\n",
    "- Have control over the number of policies displayed\n",
    "- Decide and select metrics to render\n",
    "- Choose which runs to get policies from\n"
   ]
  },
  {
   "cell_type": "markdown",
   "metadata": {
    "vscode": {
     "languageId": "raw"
    }
   },
   "source": [
    "## Installation\n",
    "\n",
    "First, make sure you have the required dependencies:\n",
    "\n",
    "`pip install anywidget traitlets httpx jupyter`\n"
   ]
  },
  {
   "cell_type": "markdown",
   "metadata": {
    "vscode": {
     "languageId": "raw"
    }
   },
   "source": [
    "## Import and Basic Setup\n"
   ]
  },
  {
   "cell_type": "code",
   "execution_count": 15,
   "metadata": {
    "editable": true,
    "scrolled": true,
    "slideshow": {
     "slide_type": ""
    },
    "tags": []
   },
   "outputs": [
    {
     "name": "stdout",
     "output_type": "stream",
     "text": [
      "The autoreload extension is already loaded. To reload it, use:\n",
      "  %reload_ext autoreload\n",
      "The anywidget extension is already loaded. To reload it, use:\n",
      "  %reload_ext anywidget\n",
      "Setup complete! Auto-reload enabled.\n"
     ]
    }
   ],
   "source": [
    "%load_ext autoreload\n",
    "%autoreload 2\n",
    "import os\n",
    "import sys\n",
    "from datetime import datetime\n",
    "\n",
    "import matplotlib.pyplot as plt\n",
    "import plotly.graph_objects as go\n",
    "from plotly.subplots import make_subplots\n",
    "\n",
    "from experiments.notebooks.utils.metrics import fetch_metrics\n",
    "from experiments.notebooks.utils.monitoring import monitor_training_statuses\n",
    "from experiments.notebooks.utils.replays import show_replay\n",
    "from experiments.notebooks.utils.training import launch_training\n",
    "from experiments.notebooks.utils.metrics import find_training_jobs\n",
    "\n",
    "%matplotlib inline\n",
    "plt.style.use(\"default\")\n",
    "\n",
    "%load_ext anywidget\n",
    "\n",
    "print(\"Setup complete! Auto-reload enabled.\")\n"
   ]
  },
  {
   "cell_type": "markdown",
   "metadata": {
    "vscode": {
     "languageId": "raw"
    }
   },
   "source": [
    "## Example: Demo Heatmap with Sample Data\n",
    "\n",
    "Let's start with a simple demo that includes sample data:\n"
   ]
  },
  {
   "cell_type": "code",
   "execution_count": 16,
   "metadata": {
    "scrolled": true
   },
   "outputs": [
    {
     "name": "stdout",
     "output_type": "stream",
     "text": [
      "🎯 Creating demo heatmap widget...\n",
      "🚀 HeatmapWidget initialized successfully!\n",
      "📊 Data set with 3 policies and 4 evaluations\n",
      "📈 Selected metric: reward\n",
      "✅ Demo heatmap widget created with sample data!\n"
     ]
    },
    {
     "data": {
      "application/vnd.jupyter.widget-view+json": {
       "model_id": "f55984d7dcb74f0c8b9ef5d20876cfd4",
       "version_major": 2,
       "version_minor": 1
      },
      "text/plain": [
       "HeatmapWidget(heatmap_data={'cells': {'policy_alpha_v1': {'navigation/maze1': {'value': 85.2, 'replayUrl': 'sa…"
      ]
     },
     "execution_count": 16,
     "metadata": {},
     "output_type": "execute_result"
    }
   ],
   "source": [
    "from experiments.notebooks.utils.heatmap_widget import HeatmapWidget, create_demo_heatmap, create_heatmap_widget\n",
    "from IPython.display import display\n",
    "\n",
    "# Create a demo heatmap with sample data\n",
    "demo_widget = create_demo_heatmap()\n",
    "\n",
    "# Display the widget\n",
    "demo_widget"
   ]
  },
  {
   "cell_type": "markdown",
   "metadata": {
    "vscode": {
     "languageId": "raw"
    }
   },
   "source": [
    "## Real Data from Metta Database\n",
    "\n",
    "Now let's write code that fetches real evaluation data from metta's databases:\n",
    "\n",
    "First we'll need some API variables.\n",
    "\n",
    "Then we'll make an API client for the metta API.\n",
    "\n",
    "Then we'll use the client to retrieve policy data.\n",
    "\n",
    "Then we'll render it with the HeatmapWidget.\n"
   ]
  },
  {
   "cell_type": "code",
   "execution_count": 17,
   "metadata": {},
   "outputs": [
    {
     "name": "stdout",
     "output_type": "stream",
     "text": [
      "https://api.observatory.softmax-research.net\n"
     ]
    }
   ],
   "source": [
    "# Check out this module, it will help you use this widget.\n",
    "from experiments.notebooks.utils.heatmap_widget import MettaAPIClient, fetch_real_heatmap_data\n",
    "\n",
    "api_base_url = \"https://api.observatory.softmax-research.net\"\n",
    "auth_token = \"WTGipvHPU5RtZsN3S033H4QnWLKkOq3LtPmhes6iFQk\"  # from ~/.metta/observatory_tokens.yaml\n",
    "\n",
    "if not auth_token:\n",
    "    raise ValueError(\"No auth token found. Please set auth_token in the notebook. Check ~/.metta/observatory_tokens.yaml\")\n",
    "\n",
    "client = MettaAPIClient(api_base_url, auth_token)\n"
   ]
  },
  {
   "cell_type": "markdown",
   "metadata": {
    "vscode": {
     "languageId": "raw"
    }
   },
   "source": [
    "## Example: Using Real Data\n",
    "\n",
    "Now let's explore what's available in the database and create a heatmap with real data:\n"
   ]
  },
  {
   "cell_type": "code",
   "execution_count": 18,
   "metadata": {},
   "outputs": [
    {
     "name": "stdout",
     "output_type": "stream",
     "text": [
      "https://api.observatory.softmax-research.net\n",
      "🔍 Making POST request to: https://api.observatory.softmax-research.net/heatmap/policies\n",
      "🔑 Headers: {'Content-Type': 'application/json', 'X-Auth-Token': 'WTGipvHPU5RtZsN3S033H4QnWLKkOq3LtPmhes6iFQk'}\n",
      "📦 Payload: {'search_text': None, 'pagination': {'page': 1, 'page_size': 100}}\n",
      "📨 Response status: 200\n",
      "https://api.observatory.softmax-research.net\n",
      "🔍 Making POST request to: https://api.observatory.softmax-research.net/heatmap/policies\n",
      "🔑 Headers: {'Content-Type': 'application/json', 'X-Auth-Token': 'WTGipvHPU5RtZsN3S033H4QnWLKkOq3LtPmhes6iFQk'}\n",
      "📦 Payload: {'search_text': None, 'pagination': {'page': 1, 'page_size': 100}}\n",
      "📨 Response status: 200\n",
      "🔍 Making POST request to: https://api.observatory.softmax-research.net/heatmap/evals\n",
      "🔑 Headers: {'Content-Type': 'application/json', 'X-Auth-Token': 'WTGipvHPU5RtZsN3S033H4QnWLKkOq3LtPmhes6iFQk'}\n",
      "📦 Payload: {'training_run_ids': ['aa23e8e7-0c41-48e9-9d41-356b482afa3c', '9c67902c-0379-4542-b9a2-a43a83994f73', '25d784a1-ae06-4323-a5b5-03f46a86c2b1', 'db04a711-77fb-4c4d-bee6-bfac77356980', '7edc190b-5c9c-4e7b-a689-7a89548ee8fd', '0e4ec283-2245-4aba-a824-f54ea93b32ba', 'dca11b7c-273b-4964-8a44-69d3ac4f3682', '4752cdc7-5a58-407d-981a-c6698399a352', '6b2e00e6-06bf-4570-abfa-f4e4124c0b46', 'e3172ec9-c277-4d68-8762-7a69877c7ea6', 'f289a234-a1a7-4548-b41a-22e2e31fde87', '69d4bbd5-b3c1-402d-843e-3c1c717ce4b1', 'd2085fde-5395-4e7a-8b28-fd88eee70b75', '46af949b-1c18-4ec6-ac76-bcc78b357dae', '3a5698ba-32d0-47ae-a127-d7d42c65c7fa', '0e6f7f4b-1c1b-483e-aba4-1f63e8966a2d', '1ff5871d-f921-48dd-9da2-86611ef7f8b5', '62e5764e-7fe5-4991-9714-6063a05e3db4', 'a66fbcaf-1503-440a-9358-390b57c1f169', '7ff654e5-0d08-492a-8a9c-da4673de429e', '5a4aef8b-845d-42f2-ad78-8b827b04300b', 'ccb0208c-09bb-4474-a87b-13774b9b5b5a', '72affd1e-c4ec-4fc8-b31e-c0cee9d1663e', '03c8f2c5-bebe-4f89-87eb-d0de5ed48f6a', '46824cfe-8862-4e45-9716-25ef8b2d7c46', 'a660a6ce-0005-4abd-a99c-4942689a2294', 'dd662589-4587-4178-bec4-7023f497fd0e', '77ca321e-7126-4486-a802-8035077960b2', '44d713ad-be44-475f-9462-837c5eefc534', '1ea9eb15-ea1a-49a0-b5e2-55ffb7428193', 'bc8fe34a-2f0c-47cb-b271-93ec17100726', 'c5bcd519-6752-4077-96af-a44a0c1d4ea5', '36458d1d-6188-4358-bbf1-9506c0077471', '716cd568-f999-4338-8991-574a7b925a7c', '67bfefee-82ca-415d-9f00-7357640107d5', 'c16d7aeb-17df-453c-9db6-d48c9d51f66d', 'a23fae54-0001-499a-8c86-a9083ad48c35', 'ecabc9e1-aaa9-496a-8e8d-8208206c253c', 'fe6d7ecb-3f13-4cc9-9955-5af1341d2e2d', '74dcf322-ba33-4ab3-a0cc-6d5f5756ab93', '807c8e5b-f112-49c5-b344-9e97cb4e3d91', 'db923221-6a2c-489f-810e-8c835c502244', '12ee51cb-7445-4163-a1f2-8d298268195c', 'a0e5ed62-d45b-4092-8208-f80a9272a765', '98ebe886-6521-4a76-9d31-7dfc69f21209', 'ce7bc1ae-fae9-4dd1-8e6f-bec70c1e00e2', '7f754633-3908-40c6-a75a-28010ac85be4', 'ba5f428e-91f9-42ff-82bf-9d5462022d6c', '998cef5e-f72b-4a27-a697-d6805808ccc9', '25f02ab4-4451-4c8b-8f7f-44fc4f125e6f', '50200440-af4c-4b10-b83a-39d44c207b5a', '428ff90b-3936-4641-9fda-767dd17ecf9a', '5f9c0930-e905-4910-a91a-9205e730b8da', 'd69ae7fe-cac4-452e-af1e-1bf79b33fcfd', '47d4c347-9b60-4893-9e5c-d2354821c9ed', 'de9ff29d-d8d8-41f2-b57b-211089fd432e', '9806ed7d-04e5-4112-b38d-ca4e91a8231b', '9ce1b2b0-e806-45db-8471-ec72f9e3b21a', '604a6f6f-445a-4172-a06e-42e1c2bc0fc0', '4f5bd1e2-64ef-4cd1-8a76-c96c0cf460c1', '7f69b9ad-ce67-4e44-b955-92a8d13058a5', '3b207597-c4b4-440a-ac55-75da90251a3d', '619930b0-fc19-4ed1-9eb0-4974fefdedb5', 'd06d917f-060f-4b5f-a3bf-b67b6ea4ecce', 'f74ac910-f055-45f6-b5b4-bf47484a8cde', '58c41b73-13af-4bc8-91e4-3ef69a42f162', 'de3365fa-f8a0-45b9-be23-88a2be8e06de', '759639d2-5ece-4e1b-b211-b05db9150571', 'f5fe5a7f-e074-4204-b9d8-58487260fee9', 'b75e3561-7391-4b5d-ae49-720db421188f', '1ba2257e-a655-4b5c-9115-2d95c240030a', 'cc1b0fe0-82d9-4f5b-bdbe-93480723099f', 'd4554ee6-9552-4624-8e37-a64491e8472d', '756c277a-5090-4f9a-88eb-43a041480208', '5d7268be-29e5-4191-b13b-c429431d27b6', '9478ba62-06b0-4aaf-8644-2a7e9af39557', 'f2645d83-6ade-42d8-be4e-e632c47cc93e', '19c73d62-28fa-4cf5-92db-d447acc60511', 'bc416727-ea95-40ba-b599-e3e659e46f7d', '784a2738-c826-4b3e-9156-43bd7300724f', '0293bef6-cbb6-4794-8967-fdb9daf368a2', '62f48dbe-7c98-496f-b85a-36a29ad14e72', '5ed836e1-8794-464e-b227-5b8bc6173c7e', '7501b2a7-9e83-4e31-bff3-73d45d78d01f', '6d06945f-d0dd-4d09-8e38-1bad377a13fe', '92006d07-d26b-4a4e-8a32-505c91294223', '83324eeb-b02a-43e7-96c2-6889c0e1810b', '65d45156-cd22-400c-99a9-0df50a83985e', 'cfe9bf0c-d1f6-41da-a4cb-ee7564b53804', '11459165-4fee-4533-a7c5-f10d3b0258c0', 'bf7df3be-f26f-43b7-be8e-6ea22998f120'], 'run_free_policy_ids': []}\n",
      "📨 Response status: 200\n",
      "https://api.observatory.softmax-research.net\n",
      "🔍 Attempting to get metrics for 100 eval names...\n",
      "📋 Eval names: ['arena/advanced', 'arena/advanced_poor', 'arena/basic', 'arena/combat', 'arena/tag', 'eval/training_task', 'memory/boxout', 'memory/choose_wisely', 'memory/corners', 'memory/easy', 'memory/easy_sequence', 'memory/hall_of_mirrors', 'memory/hard', 'memory/hard_sequence', 'memory/journey_home', 'memory/little_landmark_easy', 'memory/little_landmark_hard', 'memory/lobster_legs', 'memory/lobster_legs_cues', 'memory/medium', 'memory/medium_sequence', 'memory/memory_swirls', 'memory/memory_swirls_hard', 'memory/passing_things', 'memory/spacey_memory', 'memory/tease', 'memory/tease_small', 'memory/venture_out', 'memory/you_shall_not_pass', 'navigation/corridors', 'navigation/cylinder', 'navigation/cylinder_easy', 'navigation/emptyspace_outofsight', 'navigation/emptyspace_sparse', 'navigation/emptyspace_sparse_medium', 'navigation/emptyspace_withinsight', 'navigation/honeypot', 'navigation/knotty', 'navigation/labyrinth', 'navigation/memory_palace', 'navigation/obstacles0', 'navigation/obstacles1', 'navigation/obstacles2', 'navigation/obstacles3', 'navigation/radial_large', 'navigation/radialmaze', 'navigation/radial_mini', 'navigation/radial_small', 'navigation/swirls', 'navigation/thecube', 'navigation/walkaround', 'navigation/walls_outofsight', 'navigation/walls_sparse', 'navigation/walls_withinsight', 'navigation/wanderout', 'navsequence/corridors', 'navsequence/cylinder', 'navsequence/cylinder_easy', 'navsequence/honeypot', 'navsequence/knotty', 'navsequence/memory_palace', 'navsequence/obstacles0', 'navsequence/obstacles1', 'navsequence/obstacles2', 'navsequence/obstacles3', 'navsequence/radial_large', 'navsequence/radial_mini', 'navsequence/radial_small', 'navsequence/swirls', 'navsequence/thecube', 'navsequence/walkaround', 'objectuse/altar_use_free', 'objectuse/armory_use', 'objectuse/armory_use_free', 'objectuse/full_sequence', 'objectuse/generator_use', 'objectuse/generator_use_free', 'objectuse/lasery_use', 'objectuse/lasery_use_free', 'objectuse/mine_use', 'objectuse/shoot_out', 'objectuse/swap_in', 'objectuse/swap_out', 'objectuse/temple_use_free', 'systematic_exploration_memory/boxout', 'systematic_exploration_memory/choose_wisely', 'systematic_exploration_memory/corners', 'systematic_exploration_memory/hall_of_mirrors', 'systematic_exploration_memory/journey_home', 'systematic_exploration_memory/little_landmark_hard', 'systematic_exploration_memory/lobster_legs', 'systematic_exploration_memory/lobster_legs_cues', 'systematic_exploration_memory/memory_swirls', 'systematic_exploration_memory/memory_swirls_hard', 'systematic_exploration_memory/passing_things', 'systematic_exploration_memory/rooms', 'systematic_exploration_memory/spacey_memory', 'systematic_exploration_memory/tease', 'systematic_exploration_memory/venture_out', 'systematic_exploration_memory/you_shall_not_pass']\n",
      "🔍 Making POST request to: https://api.observatory.softmax-research.net/heatmap/metrics\n",
      "🔑 Headers: {'Content-Type': 'application/json'}\n",
      "📦 Payload: {'training_run_ids': ['aa23e8e7-0c41-48e9-9d41-356b482afa3c', '9c67902c-0379-4542-b9a2-a43a83994f73', '25d784a1-ae06-4323-a5b5-03f46a86c2b1', 'db04a711-77fb-4c4d-bee6-bfac77356980', '7edc190b-5c9c-4e7b-a689-7a89548ee8fd', '0e4ec283-2245-4aba-a824-f54ea93b32ba', 'dca11b7c-273b-4964-8a44-69d3ac4f3682', '4752cdc7-5a58-407d-981a-c6698399a352', '6b2e00e6-06bf-4570-abfa-f4e4124c0b46', 'e3172ec9-c277-4d68-8762-7a69877c7ea6', 'f289a234-a1a7-4548-b41a-22e2e31fde87', '69d4bbd5-b3c1-402d-843e-3c1c717ce4b1', 'd2085fde-5395-4e7a-8b28-fd88eee70b75', '46af949b-1c18-4ec6-ac76-bcc78b357dae', '3a5698ba-32d0-47ae-a127-d7d42c65c7fa', '0e6f7f4b-1c1b-483e-aba4-1f63e8966a2d', '1ff5871d-f921-48dd-9da2-86611ef7f8b5', '62e5764e-7fe5-4991-9714-6063a05e3db4', 'a66fbcaf-1503-440a-9358-390b57c1f169', '7ff654e5-0d08-492a-8a9c-da4673de429e', '5a4aef8b-845d-42f2-ad78-8b827b04300b', 'ccb0208c-09bb-4474-a87b-13774b9b5b5a', '72affd1e-c4ec-4fc8-b31e-c0cee9d1663e', '03c8f2c5-bebe-4f89-87eb-d0de5ed48f6a', '46824cfe-8862-4e45-9716-25ef8b2d7c46', 'a660a6ce-0005-4abd-a99c-4942689a2294', 'dd662589-4587-4178-bec4-7023f497fd0e', '77ca321e-7126-4486-a802-8035077960b2', '44d713ad-be44-475f-9462-837c5eefc534', '1ea9eb15-ea1a-49a0-b5e2-55ffb7428193', 'bc8fe34a-2f0c-47cb-b271-93ec17100726', 'c5bcd519-6752-4077-96af-a44a0c1d4ea5', '36458d1d-6188-4358-bbf1-9506c0077471', '716cd568-f999-4338-8991-574a7b925a7c', '67bfefee-82ca-415d-9f00-7357640107d5', 'c16d7aeb-17df-453c-9db6-d48c9d51f66d', 'a23fae54-0001-499a-8c86-a9083ad48c35', 'ecabc9e1-aaa9-496a-8e8d-8208206c253c', 'fe6d7ecb-3f13-4cc9-9955-5af1341d2e2d', '74dcf322-ba33-4ab3-a0cc-6d5f5756ab93', '807c8e5b-f112-49c5-b344-9e97cb4e3d91', 'db923221-6a2c-489f-810e-8c835c502244', '12ee51cb-7445-4163-a1f2-8d298268195c', 'a0e5ed62-d45b-4092-8208-f80a9272a765', '98ebe886-6521-4a76-9d31-7dfc69f21209', 'ce7bc1ae-fae9-4dd1-8e6f-bec70c1e00e2', '7f754633-3908-40c6-a75a-28010ac85be4', 'ba5f428e-91f9-42ff-82bf-9d5462022d6c', '998cef5e-f72b-4a27-a697-d6805808ccc9', '25f02ab4-4451-4c8b-8f7f-44fc4f125e6f', '50200440-af4c-4b10-b83a-39d44c207b5a', '428ff90b-3936-4641-9fda-767dd17ecf9a', '5f9c0930-e905-4910-a91a-9205e730b8da', 'd69ae7fe-cac4-452e-af1e-1bf79b33fcfd', '47d4c347-9b60-4893-9e5c-d2354821c9ed', 'de9ff29d-d8d8-41f2-b57b-211089fd432e', '9806ed7d-04e5-4112-b38d-ca4e91a8231b', '9ce1b2b0-e806-45db-8471-ec72f9e3b21a', '604a6f6f-445a-4172-a06e-42e1c2bc0fc0', '4f5bd1e2-64ef-4cd1-8a76-c96c0cf460c1', '7f69b9ad-ce67-4e44-b955-92a8d13058a5', '3b207597-c4b4-440a-ac55-75da90251a3d', '619930b0-fc19-4ed1-9eb0-4974fefdedb5', 'd06d917f-060f-4b5f-a3bf-b67b6ea4ecce', 'f74ac910-f055-45f6-b5b4-bf47484a8cde', '58c41b73-13af-4bc8-91e4-3ef69a42f162', 'de3365fa-f8a0-45b9-be23-88a2be8e06de', '759639d2-5ece-4e1b-b211-b05db9150571', 'f5fe5a7f-e074-4204-b9d8-58487260fee9', 'b75e3561-7391-4b5d-ae49-720db421188f', '1ba2257e-a655-4b5c-9115-2d95c240030a', 'cc1b0fe0-82d9-4f5b-bdbe-93480723099f', 'd4554ee6-9552-4624-8e37-a64491e8472d', '756c277a-5090-4f9a-88eb-43a041480208', '5d7268be-29e5-4191-b13b-c429431d27b6', '9478ba62-06b0-4aaf-8644-2a7e9af39557', 'f2645d83-6ade-42d8-be4e-e632c47cc93e', '19c73d62-28fa-4cf5-92db-d447acc60511', 'bc416727-ea95-40ba-b599-e3e659e46f7d', '784a2738-c826-4b3e-9156-43bd7300724f', '0293bef6-cbb6-4794-8967-fdb9daf368a2', '62f48dbe-7c98-496f-b85a-36a29ad14e72', '5ed836e1-8794-464e-b227-5b8bc6173c7e', '7501b2a7-9e83-4e31-bff3-73d45d78d01f', '6d06945f-d0dd-4d09-8e38-1bad377a13fe', '92006d07-d26b-4a4e-8a32-505c91294223', '83324eeb-b02a-43e7-96c2-6889c0e1810b', '65d45156-cd22-400c-99a9-0df50a83985e', 'cfe9bf0c-d1f6-41da-a4cb-ee7564b53804', '11459165-4fee-4533-a7c5-f10d3b0258c0', 'bf7df3be-f26f-43b7-be8e-6ea22998f120'], 'run_free_policy_ids': [], 'eval_names': ['arena/advanced', 'arena/advanced_poor', 'arena/basic', 'arena/combat', 'arena/tag', 'eval/training_task', 'memory/boxout', 'memory/choose_wisely', 'memory/corners', 'memory/easy', 'memory/easy_sequence', 'memory/hall_of_mirrors', 'memory/hard', 'memory/hard_sequence', 'memory/journey_home', 'memory/little_landmark_easy', 'memory/little_landmark_hard', 'memory/lobster_legs', 'memory/lobster_legs_cues', 'memory/medium', 'memory/medium_sequence', 'memory/memory_swirls', 'memory/memory_swirls_hard', 'memory/passing_things', 'memory/spacey_memory', 'memory/tease', 'memory/tease_small', 'memory/venture_out', 'memory/you_shall_not_pass', 'navigation/corridors', 'navigation/cylinder', 'navigation/cylinder_easy', 'navigation/emptyspace_outofsight', 'navigation/emptyspace_sparse', 'navigation/emptyspace_sparse_medium', 'navigation/emptyspace_withinsight', 'navigation/honeypot', 'navigation/knotty', 'navigation/labyrinth', 'navigation/memory_palace', 'navigation/obstacles0', 'navigation/obstacles1', 'navigation/obstacles2', 'navigation/obstacles3', 'navigation/radial_large', 'navigation/radialmaze', 'navigation/radial_mini', 'navigation/radial_small', 'navigation/swirls', 'navigation/thecube', 'navigation/walkaround', 'navigation/walls_outofsight', 'navigation/walls_sparse', 'navigation/walls_withinsight', 'navigation/wanderout', 'navsequence/corridors', 'navsequence/cylinder', 'navsequence/cylinder_easy', 'navsequence/honeypot', 'navsequence/knotty', 'navsequence/memory_palace', 'navsequence/obstacles0', 'navsequence/obstacles1', 'navsequence/obstacles2', 'navsequence/obstacles3', 'navsequence/radial_large', 'navsequence/radial_mini', 'navsequence/radial_small', 'navsequence/swirls', 'navsequence/thecube', 'navsequence/walkaround', 'objectuse/altar_use_free', 'objectuse/armory_use', 'objectuse/armory_use_free', 'objectuse/full_sequence', 'objectuse/generator_use', 'objectuse/generator_use_free', 'objectuse/lasery_use', 'objectuse/lasery_use_free', 'objectuse/mine_use', 'objectuse/shoot_out', 'objectuse/swap_in', 'objectuse/swap_out', 'objectuse/temple_use_free', 'systematic_exploration_memory/boxout', 'systematic_exploration_memory/choose_wisely', 'systematic_exploration_memory/corners', 'systematic_exploration_memory/hall_of_mirrors', 'systematic_exploration_memory/journey_home', 'systematic_exploration_memory/little_landmark_hard', 'systematic_exploration_memory/lobster_legs', 'systematic_exploration_memory/lobster_legs_cues', 'systematic_exploration_memory/memory_swirls', 'systematic_exploration_memory/memory_swirls_hard', 'systematic_exploration_memory/passing_things', 'systematic_exploration_memory/rooms', 'systematic_exploration_memory/spacey_memory', 'systematic_exploration_memory/tease', 'systematic_exploration_memory/venture_out', 'systematic_exploration_memory/you_shall_not_pass']}\n",
      "📨 Response status: 200\n",
      "🔍 Making POST request to: https://api.observatory.softmax-research.net/heatmap/heatmap\n",
      "🔑 Headers: {'Content-Type': 'application/json', 'X-Auth-Token': 'WTGipvHPU5RtZsN3S033H4QnWLKkOq3LtPmhes6iFQk'}\n",
      "📦 Payload: {'training_run_ids': ['aa23e8e7-0c41-48e9-9d41-356b482afa3c', '9c67902c-0379-4542-b9a2-a43a83994f73', '25d784a1-ae06-4323-a5b5-03f46a86c2b1', 'db04a711-77fb-4c4d-bee6-bfac77356980', '7edc190b-5c9c-4e7b-a689-7a89548ee8fd', '0e4ec283-2245-4aba-a824-f54ea93b32ba', 'dca11b7c-273b-4964-8a44-69d3ac4f3682', '4752cdc7-5a58-407d-981a-c6698399a352', '6b2e00e6-06bf-4570-abfa-f4e4124c0b46', 'e3172ec9-c277-4d68-8762-7a69877c7ea6', 'f289a234-a1a7-4548-b41a-22e2e31fde87', '69d4bbd5-b3c1-402d-843e-3c1c717ce4b1', 'd2085fde-5395-4e7a-8b28-fd88eee70b75', '46af949b-1c18-4ec6-ac76-bcc78b357dae', '3a5698ba-32d0-47ae-a127-d7d42c65c7fa', '0e6f7f4b-1c1b-483e-aba4-1f63e8966a2d', '1ff5871d-f921-48dd-9da2-86611ef7f8b5', '62e5764e-7fe5-4991-9714-6063a05e3db4', 'a66fbcaf-1503-440a-9358-390b57c1f169', '7ff654e5-0d08-492a-8a9c-da4673de429e', '5a4aef8b-845d-42f2-ad78-8b827b04300b', 'ccb0208c-09bb-4474-a87b-13774b9b5b5a', '72affd1e-c4ec-4fc8-b31e-c0cee9d1663e', '03c8f2c5-bebe-4f89-87eb-d0de5ed48f6a', '46824cfe-8862-4e45-9716-25ef8b2d7c46', 'a660a6ce-0005-4abd-a99c-4942689a2294', 'dd662589-4587-4178-bec4-7023f497fd0e', '77ca321e-7126-4486-a802-8035077960b2', '44d713ad-be44-475f-9462-837c5eefc534', '1ea9eb15-ea1a-49a0-b5e2-55ffb7428193', 'bc8fe34a-2f0c-47cb-b271-93ec17100726', 'c5bcd519-6752-4077-96af-a44a0c1d4ea5', '36458d1d-6188-4358-bbf1-9506c0077471', '716cd568-f999-4338-8991-574a7b925a7c', '67bfefee-82ca-415d-9f00-7357640107d5', 'c16d7aeb-17df-453c-9db6-d48c9d51f66d', 'a23fae54-0001-499a-8c86-a9083ad48c35', 'ecabc9e1-aaa9-496a-8e8d-8208206c253c', 'fe6d7ecb-3f13-4cc9-9955-5af1341d2e2d', '74dcf322-ba33-4ab3-a0cc-6d5f5756ab93', '807c8e5b-f112-49c5-b344-9e97cb4e3d91', 'db923221-6a2c-489f-810e-8c835c502244', '12ee51cb-7445-4163-a1f2-8d298268195c', 'a0e5ed62-d45b-4092-8208-f80a9272a765', '98ebe886-6521-4a76-9d31-7dfc69f21209', 'ce7bc1ae-fae9-4dd1-8e6f-bec70c1e00e2', '7f754633-3908-40c6-a75a-28010ac85be4', 'ba5f428e-91f9-42ff-82bf-9d5462022d6c', '998cef5e-f72b-4a27-a697-d6805808ccc9', '25f02ab4-4451-4c8b-8f7f-44fc4f125e6f', '50200440-af4c-4b10-b83a-39d44c207b5a', '428ff90b-3936-4641-9fda-767dd17ecf9a', '5f9c0930-e905-4910-a91a-9205e730b8da', 'd69ae7fe-cac4-452e-af1e-1bf79b33fcfd', '47d4c347-9b60-4893-9e5c-d2354821c9ed', 'de9ff29d-d8d8-41f2-b57b-211089fd432e', '9806ed7d-04e5-4112-b38d-ca4e91a8231b', '9ce1b2b0-e806-45db-8471-ec72f9e3b21a', '604a6f6f-445a-4172-a06e-42e1c2bc0fc0', '4f5bd1e2-64ef-4cd1-8a76-c96c0cf460c1', '7f69b9ad-ce67-4e44-b955-92a8d13058a5', '3b207597-c4b4-440a-ac55-75da90251a3d', '619930b0-fc19-4ed1-9eb0-4974fefdedb5', 'd06d917f-060f-4b5f-a3bf-b67b6ea4ecce', 'f74ac910-f055-45f6-b5b4-bf47484a8cde', '58c41b73-13af-4bc8-91e4-3ef69a42f162', 'de3365fa-f8a0-45b9-be23-88a2be8e06de', '759639d2-5ece-4e1b-b211-b05db9150571', 'f5fe5a7f-e074-4204-b9d8-58487260fee9', 'b75e3561-7391-4b5d-ae49-720db421188f', '1ba2257e-a655-4b5c-9115-2d95c240030a', 'cc1b0fe0-82d9-4f5b-bdbe-93480723099f', 'd4554ee6-9552-4624-8e37-a64491e8472d', '756c277a-5090-4f9a-88eb-43a041480208', '5d7268be-29e5-4191-b13b-c429431d27b6', '9478ba62-06b0-4aaf-8644-2a7e9af39557', 'f2645d83-6ade-42d8-be4e-e632c47cc93e', '19c73d62-28fa-4cf5-92db-d447acc60511', 'bc416727-ea95-40ba-b599-e3e659e46f7d', '784a2738-c826-4b3e-9156-43bd7300724f', '0293bef6-cbb6-4794-8967-fdb9daf368a2', '62f48dbe-7c98-496f-b85a-36a29ad14e72', '5ed836e1-8794-464e-b227-5b8bc6173c7e', '7501b2a7-9e83-4e31-bff3-73d45d78d01f', '6d06945f-d0dd-4d09-8e38-1bad377a13fe', '92006d07-d26b-4a4e-8a32-505c91294223', '83324eeb-b02a-43e7-96c2-6889c0e1810b', '65d45156-cd22-400c-99a9-0df50a83985e', 'cfe9bf0c-d1f6-41da-a4cb-ee7564b53804', '11459165-4fee-4533-a7c5-f10d3b0258c0', 'bf7df3be-f26f-43b7-be8e-6ea22998f120'], 'run_free_policy_ids': [], 'eval_names': ['arena/advanced', 'arena/advanced_poor', 'arena/basic', 'arena/combat', 'arena/tag', 'eval/training_task', 'memory/boxout', 'memory/choose_wisely', 'memory/corners', 'memory/easy', 'memory/easy_sequence', 'memory/hall_of_mirrors', 'memory/hard', 'memory/hard_sequence', 'memory/journey_home', 'memory/little_landmark_easy', 'memory/little_landmark_hard', 'memory/lobster_legs', 'memory/lobster_legs_cues', 'memory/medium', 'memory/medium_sequence', 'memory/memory_swirls', 'memory/memory_swirls_hard', 'memory/passing_things', 'memory/spacey_memory', 'memory/tease', 'memory/tease_small', 'memory/venture_out', 'memory/you_shall_not_pass', 'navigation/corridors', 'navigation/cylinder', 'navigation/cylinder_easy', 'navigation/emptyspace_outofsight', 'navigation/emptyspace_sparse', 'navigation/emptyspace_sparse_medium', 'navigation/emptyspace_withinsight', 'navigation/honeypot', 'navigation/knotty', 'navigation/labyrinth', 'navigation/memory_palace', 'navigation/obstacles0', 'navigation/obstacles1', 'navigation/obstacles2', 'navigation/obstacles3', 'navigation/radial_large', 'navigation/radialmaze', 'navigation/radial_mini', 'navigation/radial_small', 'navigation/swirls', 'navigation/thecube', 'navigation/walkaround', 'navigation/walls_outofsight', 'navigation/walls_sparse', 'navigation/walls_withinsight', 'navigation/wanderout', 'navsequence/corridors', 'navsequence/cylinder', 'navsequence/cylinder_easy', 'navsequence/honeypot', 'navsequence/knotty', 'navsequence/memory_palace', 'navsequence/obstacles0', 'navsequence/obstacles1', 'navsequence/obstacles2', 'navsequence/obstacles3', 'navsequence/radial_large', 'navsequence/radial_mini', 'navsequence/radial_small', 'navsequence/swirls', 'navsequence/thecube', 'navsequence/walkaround', 'objectuse/altar_use_free', 'objectuse/armory_use', 'objectuse/armory_use_free', 'objectuse/full_sequence', 'objectuse/generator_use', 'objectuse/generator_use_free', 'objectuse/lasery_use', 'objectuse/lasery_use_free', 'objectuse/mine_use', 'objectuse/shoot_out', 'objectuse/swap_in', 'objectuse/swap_out', 'objectuse/temple_use_free', 'systematic_exploration_memory/boxout', 'systematic_exploration_memory/choose_wisely', 'systematic_exploration_memory/corners', 'systematic_exploration_memory/hall_of_mirrors', 'systematic_exploration_memory/journey_home', 'systematic_exploration_memory/little_landmark_hard', 'systematic_exploration_memory/lobster_legs', 'systematic_exploration_memory/lobster_legs_cues', 'systematic_exploration_memory/memory_swirls', 'systematic_exploration_memory/memory_swirls_hard', 'systematic_exploration_memory/passing_things', 'systematic_exploration_memory/rooms', 'systematic_exploration_memory/spacey_memory', 'systematic_exploration_memory/tease', 'systematic_exploration_memory/venture_out', 'systematic_exploration_memory/you_shall_not_pass'], 'metric': 'reward', 'training_run_policy_selector': 'best'}\n",
      "📨 Response status: 200\n",
      "🚀 HeatmapWidget initialized successfully!\n",
      "📊 Multi-metric data set with 50 policies and 100 evaluations\n",
      "📈 Available metrics: reward\n",
      "📈 Selected metric: reward\n"
     ]
    },
    {
     "data": {
      "application/vnd.jupyter.widget-view+json": {
       "model_id": "b2d4f82eed7e440fb7c5683ebe239a4c",
       "version_major": 2,
       "version_minor": 1
      },
      "text/plain": [
       "HeatmapWidget(heatmap_data={'cells': {'absurdlybasictest5:v31': {'arena/advanced': {'metrics': {'reward': 45.9…"
      ]
     },
     "execution_count": 18,
     "metadata": {},
     "output_type": "execute_result"
    }
   ],
   "source": [
    "# For now, let's try with some common metrics and see what we find:\n",
    "real_heatmap = None\n",
    "try:\n",
    "    # specific_runs = [\n",
    "    #     \"daveey.arena.rnd.16x4.2\",\n",
    "    #     \"relh.skypilot.fff.j20.666\",\n",
    "    #     \"bullm.navigation.low_reward.baseline\",\n",
    "    #     \"bullm.navigation.low_reward.baseline.07-17\", \n",
    "    #     \"bullm.navigation.low_reward.baseline.07-23\",\n",
    "    #     \"relh.multigpu.fff.1\",\n",
    "    #     \"relh.skypilot.fff.j21.2\",\n",
    "    # ]\n",
    "    \n",
    "    # Common metrics that are likely to exist:\n",
    "    metrics_to_fetch = [\"reward\", \"heart.get\", \"ore_red.get\", \"action.move.success\"]\n",
    "\n",
    "    client = MettaAPIClient(api_base_url, auth_token)\n",
    "    runs = await client.get_all_training_runs()\n",
    "    run_names = [policy[\"name\"] for policy in runs[\"policies\"]]\n",
    "    \n",
    "    real_heatmap = await fetch_real_heatmap_data(\n",
    "        api_base_url=api_base_url,\n",
    "        auth_token=auth_token,\n",
    "        training_run_names=run_names,\n",
    "        metrics=metrics_to_fetch,\n",
    "        max_policies=50  # Limit display to keep it manageable\n",
    "    )\n",
    "    \n",
    "except Exception as e:\n",
    "    print(f\"❌ Error fetching real data: {e}\")\n",
    "    print(\"💡 This might happen if:\")\n",
    "    print(\"   - The database URI is incorrect\")\n",
    "    print(\"   - You're not authenticated with wandb\")\n",
    "    print(\"   - The specified metrics don't exist in the database\")\n",
    "    print(\"   - You don't have access to the database\")\n",
    "    print(\"\\n🔄 Falling back to demo data...\")\n",
    "    \n",
    "    # Fall back to demo data if real data fails\n",
    "    from experiments.notebooks.utils.heatmap_widget import create_demo_heatmap\n",
    "    demo_fallback = create_demo_heatmap()\n",
    "    demo_fallback\n",
    "\n",
    "real_heatmap"
   ]
  },
  {
   "cell_type": "markdown",
   "metadata": {
    "vscode": {
     "languageId": "raw"
    }
   },
   "source": [
    "## Example: Simply get metrics for policies from the API\n",
    "\n",
    "Here's how to create a heatmap with your own training runs and metrics using the smart policy selection:\n"
   ]
  },
  {
   "cell_type": "code",
   "execution_count": 19,
   "metadata": {},
   "outputs": [
    {
     "name": "stdout",
     "output_type": "stream",
     "text": [
      "🎯 Creating custom heatmap with best policies from training runs...\n",
      "https://api.observatory.softmax-research.net\n",
      "🔍 Making POST request to: https://api.observatory.softmax-research.net/heatmap/policies\n",
      "🔑 Headers: {'Content-Type': 'application/json', 'X-Auth-Token': 'WTGipvHPU5RtZsN3S033H4QnWLKkOq3LtPmhes6iFQk'}\n",
      "📦 Payload: {'search_text': None, 'pagination': {'page': 1, 'page_size': 100}}\n",
      "📨 Response status: 200\n",
      "🔍 Making POST request to: https://api.observatory.softmax-research.net/heatmap/evals\n",
      "🔑 Headers: {'Content-Type': 'application/json', 'X-Auth-Token': 'WTGipvHPU5RtZsN3S033H4QnWLKkOq3LtPmhes6iFQk'}\n",
      "📦 Payload: {'training_run_ids': ['bf7df3be-f26f-43b7-be8e-6ea22998f120'], 'run_free_policy_ids': []}\n",
      "📨 Response status: 200\n",
      "https://api.observatory.softmax-research.net\n",
      "🔍 Attempting to get metrics for 6 eval names...\n",
      "📋 Eval names: ['arena/advanced', 'arena/advanced_poor', 'arena/basic', 'arena/combat', 'arena/tag', 'eval/training_task']\n",
      "🔍 Making POST request to: https://api.observatory.softmax-research.net/heatmap/metrics\n",
      "🔑 Headers: {'Content-Type': 'application/json'}\n",
      "📦 Payload: {'training_run_ids': ['bf7df3be-f26f-43b7-be8e-6ea22998f120'], 'run_free_policy_ids': [], 'eval_names': ['arena/advanced', 'arena/advanced_poor', 'arena/basic', 'arena/combat', 'arena/tag', 'eval/training_task']}\n",
      "📨 Response status: 200\n",
      "🔍 Making POST request to: https://api.observatory.softmax-research.net/heatmap/heatmap\n",
      "🔑 Headers: {'Content-Type': 'application/json', 'X-Auth-Token': 'WTGipvHPU5RtZsN3S033H4QnWLKkOq3LtPmhes6iFQk'}\n",
      "📦 Payload: {'training_run_ids': ['bf7df3be-f26f-43b7-be8e-6ea22998f120'], 'run_free_policy_ids': [], 'eval_names': ['arena/advanced', 'arena/advanced_poor', 'arena/basic', 'arena/combat', 'arena/tag', 'eval/training_task'], 'metric': 'reward', 'training_run_policy_selector': 'best'}\n",
      "📨 Response status: 200\n",
      "🚀 HeatmapWidget initialized successfully!\n",
      "📊 Multi-metric data set with 1 policies and 6 evaluations\n",
      "📈 Available metrics: reward\n",
      "📈 Selected metric: reward\n",
      "📊 Custom heatmap created! Try:\n",
      "   - Hovering over cells to see detailed values\n",
      "   - Changing metrics with: custom_heatmap.update_metric('heart.get')\n",
      "   - Adjusting policies shown: custom_heatmap.set_num_policies(15)\n"
     ]
    },
    {
     "data": {
      "application/vnd.jupyter.widget-view+json": {
       "model_id": "7f0e8fc110e54328af67fe1260d0fbdd",
       "version_major": 2,
       "version_minor": 1
      },
      "text/plain": [
       "HeatmapWidget(heatmap_data={'cells': {'relh.multigpu.fff.1:v3': {'arena/advanced': {'metrics': {'reward': 0.0}…"
      ]
     },
     "execution_count": 19,
     "metadata": {},
     "output_type": "execute_result"
    }
   ],
   "source": [
    "# Example: Create a custom heatmap with specific training runs and metrics\n",
    "\n",
    "# Option 1: Use training run names (recommended - uses smart selection)\n",
    "my_training_runs = [\n",
    "    # Add your training run names here, for example:\n",
    "    \"relh.multigpu.fff.1\",\n",
    "    \"relh.skypilot.fff.j21.2\",\n",
    "    \"relh.skypilot.fff.j20.666\",\n",
    "]\n",
    "\n",
    "# Option 2: Use exact policy URIs (if you know exactly which ones you want)\n",
    "my_specific_policies = [\n",
    "    # Add exact policy URIs here, for example:\n",
    "    # \"my_policy_name:v123\",\n",
    "    # \"baseline_experiment:v456\",\n",
    "    # \"new_approach:v789\"\n",
    "]\n",
    "\n",
    "# Step 2: Define metrics you want to compare\n",
    "my_metrics = [\n",
    "    \"reward\",\n",
    "    \"heart.get\",           # Example game-specific metric\n",
    "    \"action.move.success\", # Example action success rate\n",
    "    # Add more metrics as needed\n",
    "]\n",
    "\n",
    "# Step 3: Optional - filter to specific evaluations\n",
    "# eval_filter = \"sim_env LIKE '%maze%'\"  # Only maze environments\n",
    "# eval_filter = \"sim_env LIKE '%combat%'\"  # Only combat environments  \n",
    "eval_filter = None  # No filter - include all evaluations\n",
    "\n",
    "# Step 4: Create the heatmap\n",
    "custom_heatmap = None\n",
    "if my_training_runs:  # Use smart policy selection from training runs\n",
    "    print(\"🎯 Creating custom heatmap with best policies from training runs...\")\n",
    "    \n",
    "    # Select best policies from training runs\n",
    "    custom_heatmap = await fetch_real_heatmap_data(\n",
    "        api_base_url=api_base_url,\n",
    "        auth_token=auth_token,\n",
    "        training_run_names=my_training_runs,\n",
    "        metrics=my_metrics,\n",
    "        policy_selector=\"best\",\n",
    "        max_policies=20\n",
    "    )\n",
    "    \n",
    "    print(\"📊 Custom heatmap created! Try:\")\n",
    "    print(\"   - Hovering over cells to see detailed values\")\n",
    "    print(\"   - Changing metrics with: custom_heatmap.update_metric('heart.get')\")\n",
    "    print(\"   - Adjusting policies shown: custom_heatmap.set_num_policies(15)\")\n",
    "    \n",
    "    custom_heatmap\n",
    "    \n",
    "else:\n",
    "    print(\"📝 To use this example:\")\n",
    "    print(\"   - Add your training run names to 'my_training_runs' list above\")\n",
    "\n",
    "custom_heatmap"
   ]
  },
  {
   "cell_type": "markdown",
   "metadata": {
    "vscode": {
     "languageId": "raw"
    }
   },
   "source": [
    "## Example: Multiple Metrics with Working selectedMetric\n",
    "\n",
    "Now let's see the `selectedMetric` functionality working properly! This example shows a heatmap where changing the metric actually changes the displayed values:\n"
   ]
  },
  {
   "cell_type": "code",
   "execution_count": 27,
   "metadata": {},
   "outputs": [
    {
     "name": "stdout",
     "output_type": "stream",
     "text": [
      "🎯 Creating multi-metric demo heatmap widget...\n",
      "🚀 HeatmapWidget initialized successfully!\n",
      "📊 Multi-metric data set with 3 policies and 4 evaluations\n",
      "📈 Available metrics: reward, episode_length, success_rate, completion_time\n",
      "📈 Selected metric: reward\n",
      "✅ Multi-metric demo heatmap widget created!\n",
      "📈 Try widget.update_metric('episode_length') to see values change!\n"
     ]
    },
    {
     "data": {
      "application/vnd.jupyter.widget-view+json": {
       "model_id": "2f4ba07ca89441fa921a1e81dbde14f3",
       "version_major": 2,
       "version_minor": 1
      },
      "text/plain": [
       "HeatmapWidget(heatmap_data={'cells': {'policy_alpha_v1': {'navigation/maze1': {'metrics': {'reward': 85.2, 'ep…"
      ]
     },
     "execution_count": 27,
     "metadata": {},
     "output_type": "execute_result"
    }
   ],
   "source": [
    "# Create a multi-metric heatmap widget\n",
    "from experiments.notebooks.utils.heatmap_widget import create_multi_metric_demo\n",
    "\n",
    "multi_metric_widget = create_multi_metric_demo()\n",
    "\n",
    "# Display the widget\n",
    "multi_metric_widget\n"
   ]
  },
  {
   "cell_type": "code",
   "execution_count": 21,
   "metadata": {},
   "outputs": [
    {
     "name": "stdout",
     "output_type": "stream",
     "text": [
      "🔄 Changing metric to 'episode_length'...\n",
      "📊 Metric changed to: episode_length\n"
     ]
    }
   ],
   "source": [
    "# Now try changing the metric to see the values actually change!\n",
    "print(\"🔄 Changing metric to 'episode_length'...\")\n",
    "multi_metric_widget.update_metric('episode_length')\n",
    "\n",
    "# NOTE: Notice how the values in the heatmap widget change as you switch\n",
    "# metrics?  Do not display the widget again and try to change that. That ends up\n",
    "# creating a seperate copy of the widget in a new output cell.  Instead just\n",
    "# reference the one you originally rendered, call its functions, and watch it\n",
    "# change in its Juypter notebook cell. Like we just did. Let's do it again in\n",
    "# the next cell too.\n"
   ]
  },
  {
   "cell_type": "code",
   "execution_count": 22,
   "metadata": {},
   "outputs": [
    {
     "name": "stdout",
     "output_type": "stream",
     "text": [
      "\n",
      "🔄 Changing metric to 'success_rate'...\n",
      "📊 Metric changed to: success_rate\n"
     ]
    }
   ],
   "source": [
    "# One more time. Run this cell then scroll back up again to see the change.\n",
    "print(\"\\n🔄 Changing metric to 'success_rate'...\")\n",
    "multi_metric_widget.update_metric('success_rate')\n"
   ]
  },
  {
   "cell_type": "code",
   "execution_count": 23,
   "metadata": {},
   "outputs": [
    {
     "name": "stdout",
     "output_type": "stream",
     "text": [
      "\n",
      "🔄 Changing metric to 'success_rate'...\n",
      "📈 Metric already set to: success_rate\n"
     ]
    }
   ],
   "source": [
    "# Last one. Scroll up again to see the change.\n",
    "print(\"\\n🔄 Changing metric to 'success_rate'...\")\n",
    "multi_metric_widget.update_metric('success_rate')\n"
   ]
  },
  {
   "cell_type": "markdown",
   "metadata": {},
   "source": [
    "# Example: Custom metrics\n",
    "\n",
    "We can really define our cells to have any metric data we want. This is useful because we plan to have all sorts of metrics. Let's look at an example of using any old metric we decide.\n",
    "\n",
    "Here's how to create a heatmap with your own data:\n"
   ]
  },
  {
   "cell_type": "code",
   "execution_count": 24,
   "metadata": {},
   "outputs": [
    {
     "name": "stdout",
     "output_type": "stream",
     "text": [
      "🚀 HeatmapWidget initialized successfully!\n",
      "📊 Data set with 2 policies and 3 evaluations\n",
      "📈 Selected metric: custom_score\n"
     ]
    },
    {
     "data": {
      "application/vnd.jupyter.widget-view+json": {
       "model_id": "e52d3a35da8b428c8a2ed5717cdd2cd5",
       "version_major": 2,
       "version_minor": 1
      },
      "text/plain": [
       "HeatmapWidget(heatmap_data={'cells': {'my_policy_v1': {'task_a/level1': {'metrics': {'custom_score': 85.2}, 'r…"
      ]
     },
     "execution_count": 24,
     "metadata": {},
     "output_type": "execute_result"
    }
   ],
   "source": [
    "# Create a new heatmap widget\n",
    "custom_widget = create_heatmap_widget()\n",
    "\n",
    "# Define your data structure\n",
    "# This should match the format expected by the observatory dashboard\n",
    "cells_data = {\n",
    "    'my_policy_v1': {\n",
    "        'task_a/level1': {\n",
    "            'metrics': {\n",
    "                'custom_score': 85.2,\n",
    "            },\n",
    "            'replayUrl': 'https://example.com/replay1.json', \n",
    "            'evalName': 'task_a/level1'\n",
    "        },\n",
    "        'task_a/level2': {\n",
    "            'metrics': {\n",
    "                'custom_score': 87.5,\n",
    "            },\n",
    "            'replayUrl': 'https://example.com/replay2.json', \n",
    "            'evalName': 'task_a/level2'\n",
    "        },\n",
    "        'task_b/challenge1': {\n",
    "            'metrics': {\n",
    "                'custom_score': 92.5,\n",
    "            },\n",
    "            'replayUrl': 'https://example.com/replay3.json', \n",
    "            'evalName': 'task_b/challenge1'\n",
    "        },\n",
    "    },\n",
    "    'my_policy_v2': {\n",
    "        'task_a/level1': {\n",
    "            'metrics': {\n",
    "                'custom_score': 22.5,\n",
    "            },\n",
    "            'replayUrl': 'https://example.com/replay4.json', \n",
    "            'evalName': 'task_a/level1'\n",
    "        },\n",
    "        'task_a/level2': {\n",
    "            'metrics': {\n",
    "                'custom_score': 42.5,\n",
    "            },\n",
    "            'replayUrl': 'https://example.com/replay5.json', \n",
    "            'evalName': 'task_a/level2'\n",
    "        },\n",
    "        'task_b/challenge1': {\n",
    "            'metrics': {\n",
    "                'custom_score': 62.5,\n",
    "            },\n",
    "            'replayUrl': 'https://example.com/replay6.json', \n",
    "            'evalName': 'task_b/challenge1'\n",
    "        },\n",
    "    },\n",
    "}\n",
    "\n",
    "eval_names = ['task_a/level1', 'task_a/level2', 'task_b/challenge1']\n",
    "policy_names = ['my_policy_v1', 'my_policy_v2']\n",
    "policy_averages = {\n",
    "    'my_policy_v1': 91.6,\n",
    "    'my_policy_v2': 89.6,\n",
    "}\n",
    "\n",
    "# Set the data\n",
    "custom_widget.set_data(\n",
    "    cells=cells_data,\n",
    "    eval_names=eval_names,\n",
    "    policy_names=policy_names,\n",
    "    policy_average_scores=policy_averages,\n",
    "    selected_metric=\"custom_score\"\n",
    ")\n",
    "\n",
    "# Display the widget\n",
    "custom_widget\n"
   ]
  },
  {
   "cell_type": "markdown",
   "metadata": {
    "vscode": {
     "languageId": "raw"
    }
   },
   "source": [
    "## Example: Adding Callbacks for Interactivity\n",
    "\n",
    "You can add Python callbacks to respond to user interactions:\n"
   ]
  },
  {
   "cell_type": "code",
   "execution_count": 25,
   "metadata": {},
   "outputs": [
    {
     "name": "stdout",
     "output_type": "stream",
     "text": [
      "🚀 HeatmapWidget initialized successfully!\n",
      "📊 Data set with 2 policies and 3 evaluations\n",
      "📈 Selected metric: Interactive Score (%)\n"
     ]
    },
    {
     "data": {
      "application/vnd.jupyter.widget-view+json": {
       "model_id": "29434574b29e4d2abc7074d47515bd6a",
       "version_major": 2,
       "version_minor": 1
      },
      "text/plain": [
       "HeatmapWidget(heatmap_data={'cells': {'my_policy_v1': {'task_a/level1': {'metrics': {'custom_score': 85.2}, 'r…"
      ]
     },
     "execution_count": 25,
     "metadata": {},
     "output_type": "execute_result"
    }
   ],
   "source": [
    "# NOTE: these callbacks do not work with print(), and that's really just how\n",
    "# Jupyter widgets work.  Once the Jupyter python cell finishes running and\n",
    "# outputs a widget, that widget won't be able to affect the output of the cell\n",
    "# anymore. The only way to to print() from a python widget callback is to write\n",
    "# to a file (or use a thread maybe). I give an example below.\n",
    "\n",
    "# Create another widget for callback demonstration\n",
    "callback_widget = create_heatmap_widget()\n",
    "\n",
    "# Set up the same data as before\n",
    "callback_widget.set_data(\n",
    "    cells=cells_data,\n",
    "    eval_names=eval_names,\n",
    "    policy_names=policy_names,\n",
    "    policy_average_scores=policy_averages,\n",
    "    selected_metric=\"Interactive Score (%)\"\n",
    ")\n",
    "\n",
    "# Define callback functions\n",
    "def handle_cell_selection(cell_info):\n",
    "    \"\"\"Called when user hovers over a cell (not 'overall' column).\"\"\"\n",
    "    with open(\"output_cell_selection.txt\", \"w\") as f:\n",
    "        f.write(f\"📍 Cell selected: {cell_info['policyUri']} on evaluation '{cell_info['evalName']}'\")\n",
    "\n",
    "def handle_replay_opened(replay_info):\n",
    "    \"\"\"Called when user clicks to open a replay.\"\"\"\n",
    "    with open(\"output_replay_opened.txt\", \"w\") as f:\n",
    "        f.write(f\"🎬 Replay opened: {replay_info['replayUrl']}\")\n",
    "        f.write(f\"   Policy: {replay_info['policyUri']}\")\n",
    "        f.write(f\"   Evaluation: {replay_info['evalName']}\")\n",
    "\n",
    "# Register the callbacks\n",
    "callback_widget.on_cell_selected(handle_cell_selection)\n",
    "callback_widget.on_replay_opened(handle_replay_opened)\n",
    "\n",
    "# Display the widget\n",
    "callback_widget\n"
   ]
  },
  {
   "cell_type": "code",
   "execution_count": 26,
   "metadata": {},
   "outputs": [],
   "source": [
    "# Delete the files created by the callbacks in the previous cell, if they exist\n",
    "import os\n",
    "\n",
    "for fname in [\"output_cell_selection.txt\", \"output_replay_opened.txt\"]:\n",
    "    try:\n",
    "        with open(fname, \"r\") as f:\n",
    "            print(f.read())\n",
    "        os.remove(fname)\n",
    "        print(f\"File {fname} deleted\")\n",
    "    except FileNotFoundError:\n",
    "        pass\n"
   ]
  },
  {
   "cell_type": "markdown",
   "metadata": {
    "vscode": {
     "languageId": "raw"
    }
   },
   "source": [
    "**Try interacting with the heatmap above to see the callback messages printed to\n",
    "*output files!**\n",
    "\n",
    "## Info: Data Cell Format Reference\n",
    "\n",
    "The heatmap widget expects data in a specific format that matches the\n",
    "observatory dashboard:\n",
    "\n",
    "```python\n",
    "cells = {\n",
    "    'policy_name': {\n",
    "        'eval_name': {\n",
    "            'metrics': {\n",
    "                'reward': 50,\n",
    "                'heart.get': 98,\n",
    "                'action.move.success': 5,\n",
    "                'ore_red.get': 24.2,\n",
    "                # ... more metrics\n",
    "            },\n",
    "            'replayUrl': str,         # URL to replay file\n",
    "            'evalName': str,          # Should match the key\n",
    "        },\n",
    "        # ... more evaluations\n",
    "    },\n",
    "    # ... more policies\n",
    "}\n",
    "```\n",
    "\n",
    "**Important notes:**\n",
    "- Evaluation names with \"/\" will be grouped by category (the part before \"/\")\n",
    "- The heatmap shows policies sorted by average score (worst to best, bottom to top)\n",
    "- Policy names that contain \":v\" will have WandB URLs generated automatically\n",
    "- Replay URLs should be accessible URLs or file paths\n",
    "\n",
    "This widget provides the same interactive functionality as the observatory dashboard but in a python environment, making it perfect for exploratory analysis and sharing results via Jupyter notebooks!\n"
   ]
  }
 ],
 "metadata": {
  "kernelspec": {
   "display_name": "Python 3 (ipykernel)",
   "language": "python",
   "name": "python3"
  },
  "language_info": {
   "codemirror_mode": {
    "name": "ipython",
    "version": 3
   },
   "file_extension": ".py",
   "mimetype": "text/x-python",
   "name": "python",
   "nbconvert_exporter": "python",
   "pygments_lexer": "ipython3",
   "version": "3.11.7"
  }
 },
 "nbformat": 4,
 "nbformat_minor": 4
}
