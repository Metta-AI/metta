{
  "cells": [
    {
      "cell_type": "markdown",
      "metadata": {
        "vscode": {
          "languageId": "raw"
        }
      },
      "source": [
        "# Sweep Analysis Notebook\n",
        "\n",
        "This notebook provides comprehensive analysis and visualization of hyperparameter sweep results from WandB.\n",
        "\n",
        "## Features:\n",
        "- Summary statistics of sweep parameters and metrics\n",
        "- Cost vs Score scatter plot with level sets\n",
        "- Time vs Score plot\n",
        "- Time vs Cost plot\n",
        "- Parameter correlation matrix\n",
        "- Parameter importance analysis\n"
      ]
    },
    {
      "cell_type": "code",
      "execution_count": null,
      "metadata": {},
      "outputs": [],
      "source": [
        "# Settings Cell - Configure your sweep analysis here\n",
        "\n",
        "# WandB Configuration\n",
        "WANDB_ENTITY = \"metta-research\"  # Replace with your WandB entity\n",
        "WANDB_PROJECT = \"metta\"  # Replace with your WandB project\n",
        "WANDB_SWEEP_NAME = \"axel.sky_sweep.v2\"  # Replace with your sweep ID\n",
        "WANDB_SWEEP_ID = None\n",
        "SWEEP_SERVER_URI = \"https://api.observatory.softmax-research.net\"\n",
        "# Analysis Configuration\n",
        "MAX_OBSERVATIONS = 1000  # Maximum number of observations to load\n",
        "TOP_K_PARAMETERS = 15  # Number of top parameters to show in importance plot\n",
        "FIGURE_SIZE = (10, 8)  # Default figure size for plots\n",
        "COLOR_PALETTE = \"viridis\"  # Color palette for visualizations\n"
      ]
    },
    {
      "cell_type": "code",
      "execution_count": 7,
      "metadata": {},
      "outputs": [],
      "source": [
        "# Import required libraries\n",
        "import sys\n",
        "import os\n",
        "import numpy as np\n",
        "import pandas as pd\n",
        "import matplotlib.pyplot as plt\n",
        "import seaborn as sns\n",
        "from scipy.interpolate import griddata\n",
        "from scipy.stats import gaussian_kde\n",
        "from typing import Dict, List, Any, Tuple\n",
        "import warnings\n",
        "warnings.filterwarnings('ignore')\n",
        "\n",
        "# Add the metta module to path if running from notebooks directory\n",
        "sys.path.append(os.path.abspath('..'))\n",
        "\n",
        "# Import sweep utilities\n",
        "from metta.sweep.wandb_utils import fetch_protein_observations_from_wandb\n",
        "from cogweb.cogweb_client import CogwebClient\n",
        "# Set seaborn style\n",
        "sns.set_style(\"whitegrid\")\n",
        "sns.set_palette(COLOR_PALETTE)\n"
      ]
    },
    {
      "cell_type": "code",
      "execution_count": 8,
      "metadata": {},
      "outputs": [],
      "source": [
        "# Helper functions for data processing\n",
        "\n",
        "def flatten_nested_dict(d: Dict[str, Any], parent_key: str = '', sep: str = '.') -> Dict[str, Any]:\n",
        "    \"\"\"Flatten a nested dictionary structure.\"\"\"\n",
        "    items = []\n",
        "    for k, v in d.items():\n",
        "        new_key = f\"{parent_key}{sep}{k}\" if parent_key else k\n",
        "        if isinstance(v, dict):\n",
        "            items.extend(flatten_nested_dict(v, new_key, sep=sep).items())\n",
        "        else:\n",
        "            items.append((new_key, v))\n",
        "    return dict(items)\n",
        "\n",
        "def extract_observations_to_dataframe(observations: List[Dict[str, Any]]) -> pd.DataFrame:\n",
        "    \"\"\"Convert protein observations to a pandas DataFrame.\"\"\"\n",
        "    data_rows = []\n",
        "    \n",
        "    for obs in observations:\n",
        "        if obs.get('is_failure', False):\n",
        "            continue\n",
        "            \n",
        "        suggestion = obs.get('suggestion', {})\n",
        "        flat_params = flatten_nested_dict(suggestion)\n",
        "        \n",
        "        # Add metrics\n",
        "        flat_params['score'] = obs.get('objective', np.nan)\n",
        "        flat_params['cost'] = obs.get('cost', np.nan)\n",
        "        flat_params['time'] = obs.get('cost', np.nan)  # Using cost as time proxy\n",
        "        \n",
        "        data_rows.append(flat_params)\n",
        "    \n",
        "    return pd.DataFrame(data_rows)\n"
      ]
    },
    {
      "cell_type": "code",
      "execution_count": 10,
      "metadata": {},
      "outputs": [
        {
          "name": "stdout",
          "output_type": "stream",
          "text": [
            "Loading sweep data from WandB...\n",
            "Entity: metta-research\n",
            "Project: metta\n",
            "Sweep ID: None\n"
          ]
        },
        {
          "ename": "UnsupportedProtocol",
          "evalue": "Request URL is missing an 'http://' or 'https://' protocol.",
          "output_type": "error",
          "traceback": [
            "\u001b[31m---------------------------------------------------------------------------\u001b[39m",
            "\u001b[31mUnsupportedProtocol\u001b[39m                       Traceback (most recent call last)",
            "\u001b[36mFile \u001b[39m\u001b[32m~/Documents/Softmax/metta/.venv/lib/python3.11/site-packages/httpx/_transports/default.py:101\u001b[39m, in \u001b[36mmap_httpcore_exceptions\u001b[39m\u001b[34m()\u001b[39m\n\u001b[32m    100\u001b[39m \u001b[38;5;28;01mtry\u001b[39;00m:\n\u001b[32m--> \u001b[39m\u001b[32m101\u001b[39m     \u001b[38;5;28;01myield\u001b[39;00m\n\u001b[32m    102\u001b[39m \u001b[38;5;28;01mexcept\u001b[39;00m \u001b[38;5;167;01mException\u001b[39;00m \u001b[38;5;28;01mas\u001b[39;00m exc:\n",
            "\u001b[36mFile \u001b[39m\u001b[32m~/Documents/Softmax/metta/.venv/lib/python3.11/site-packages/httpx/_transports/default.py:250\u001b[39m, in \u001b[36mHTTPTransport.handle_request\u001b[39m\u001b[34m(self, request)\u001b[39m\n\u001b[32m    249\u001b[39m \u001b[38;5;28;01mwith\u001b[39;00m map_httpcore_exceptions():\n\u001b[32m--> \u001b[39m\u001b[32m250\u001b[39m     resp = \u001b[38;5;28;43mself\u001b[39;49m\u001b[43m.\u001b[49m\u001b[43m_pool\u001b[49m\u001b[43m.\u001b[49m\u001b[43mhandle_request\u001b[49m\u001b[43m(\u001b[49m\u001b[43mreq\u001b[49m\u001b[43m)\u001b[49m\n\u001b[32m    252\u001b[39m \u001b[38;5;28;01massert\u001b[39;00m \u001b[38;5;28misinstance\u001b[39m(resp.stream, typing.Iterable)\n",
            "\u001b[36mFile \u001b[39m\u001b[32m~/Documents/Softmax/metta/.venv/lib/python3.11/site-packages/httpcore/_sync/connection_pool.py:207\u001b[39m, in \u001b[36mConnectionPool.handle_request\u001b[39m\u001b[34m(self, request)\u001b[39m\n\u001b[32m    206\u001b[39m \u001b[38;5;28;01mif\u001b[39;00m scheme == \u001b[33m\"\u001b[39m\u001b[33m\"\u001b[39m:\n\u001b[32m--> \u001b[39m\u001b[32m207\u001b[39m     \u001b[38;5;28;01mraise\u001b[39;00m UnsupportedProtocol(\n\u001b[32m    208\u001b[39m         \u001b[33m\"\u001b[39m\u001b[33mRequest URL is missing an \u001b[39m\u001b[33m'\u001b[39m\u001b[33mhttp://\u001b[39m\u001b[33m'\u001b[39m\u001b[33m or \u001b[39m\u001b[33m'\u001b[39m\u001b[33mhttps://\u001b[39m\u001b[33m'\u001b[39m\u001b[33m protocol.\u001b[39m\u001b[33m\"\u001b[39m\n\u001b[32m    209\u001b[39m     )\n\u001b[32m    210\u001b[39m \u001b[38;5;28;01mif\u001b[39;00m scheme \u001b[38;5;129;01mnot\u001b[39;00m \u001b[38;5;129;01min\u001b[39;00m (\u001b[33m\"\u001b[39m\u001b[33mhttp\u001b[39m\u001b[33m\"\u001b[39m, \u001b[33m\"\u001b[39m\u001b[33mhttps\u001b[39m\u001b[33m\"\u001b[39m, \u001b[33m\"\u001b[39m\u001b[33mws\u001b[39m\u001b[33m\"\u001b[39m, \u001b[33m\"\u001b[39m\u001b[33mwss\u001b[39m\u001b[33m\"\u001b[39m):\n",
            "\u001b[31mUnsupportedProtocol\u001b[39m: Request URL is missing an 'http://' or 'https://' protocol.",
            "\nThe above exception was the direct cause of the following exception:\n",
            "\u001b[31mUnsupportedProtocol\u001b[39m                       Traceback (most recent call last)",
            "\u001b[36mCell\u001b[39m\u001b[36m \u001b[39m\u001b[32mIn[10]\u001b[39m\u001b[32m, line 9\u001b[39m\n\u001b[32m      7\u001b[39m cogweb_client = CogwebClient.get_client(base_url=SWEEP_SERVER_URI)\n\u001b[32m      8\u001b[39m sweep_client = cogweb_client.sweep_client()\n\u001b[32m----> \u001b[39m\u001b[32m9\u001b[39m WANDB_SWEEP_ID = \u001b[43msweep_client\u001b[49m\u001b[43m.\u001b[49m\u001b[43mget_sweep\u001b[49m\u001b[43m(\u001b[49m\u001b[43mWANDB_SWEEP_NAME\u001b[49m\u001b[43m)\u001b[49m.wandb_sweep_id\n\u001b[32m     11\u001b[39m observations = fetch_protein_observations_from_wandb(\n\u001b[32m     12\u001b[39m     wandb_entity=WANDB_ENTITY,\n\u001b[32m     13\u001b[39m     wandb_project=WANDB_PROJECT,\n\u001b[32m     14\u001b[39m     wandb_sweep_id=WANDB_SWEEP_ID,\n\u001b[32m     15\u001b[39m     max_observations=MAX_OBSERVATIONS\n\u001b[32m     16\u001b[39m )\n\u001b[32m     18\u001b[39m \u001b[38;5;28mprint\u001b[39m(\u001b[33mf\u001b[39m\u001b[33m\"\u001b[39m\u001b[38;5;130;01m\\n\u001b[39;00m\u001b[33mLoaded \u001b[39m\u001b[38;5;132;01m{\u001b[39;00m\u001b[38;5;28mlen\u001b[39m(observations)\u001b[38;5;132;01m}\u001b[39;00m\u001b[33m observations\u001b[39m\u001b[33m\"\u001b[39m)\n",
            "\u001b[36mFile \u001b[39m\u001b[32m~/Documents/Softmax/metta/app_backend/src/metta/app_backend/sweep_client.py:47\u001b[39m, in \u001b[36mSweepClient.get_sweep\u001b[39m\u001b[34m(self, sweep_name)\u001b[39m\n\u001b[32m     45\u001b[39m \u001b[38;5;28;01mdef\u001b[39;00m\u001b[38;5;250m \u001b[39m\u001b[34mget_sweep\u001b[39m(\u001b[38;5;28mself\u001b[39m, sweep_name: \u001b[38;5;28mstr\u001b[39m) -> SweepInfo:\n\u001b[32m     46\u001b[39m \u001b[38;5;250m    \u001b[39m\u001b[33;03m\"\"\"Get sweep information.\"\"\"\u001b[39;00m\n\u001b[32m---> \u001b[39m\u001b[32m47\u001b[39m     response = \u001b[43mhttpx\u001b[49m\u001b[43m.\u001b[49m\u001b[43mget\u001b[49m\u001b[43m(\u001b[49m\n\u001b[32m     48\u001b[39m \u001b[43m        \u001b[49m\u001b[33;43mf\u001b[39;49m\u001b[33;43m\"\u001b[39;49m\u001b[38;5;132;43;01m{\u001b[39;49;00m\u001b[38;5;28;43mself\u001b[39;49m\u001b[43m.\u001b[49m\u001b[43mbase_url\u001b[49m\u001b[38;5;132;43;01m}\u001b[39;49;00m\u001b[33;43m/sweeps/\u001b[39;49m\u001b[38;5;132;43;01m{\u001b[39;49;00m\u001b[43msweep_name\u001b[49m\u001b[38;5;132;43;01m}\u001b[39;49;00m\u001b[33;43m\"\u001b[39;49m\u001b[43m,\u001b[49m\n\u001b[32m     49\u001b[39m \u001b[43m        \u001b[49m\u001b[43mheaders\u001b[49m\u001b[43m=\u001b[49m\u001b[38;5;28;43mself\u001b[39;49m\u001b[43m.\u001b[49m\u001b[43mheaders\u001b[49m\u001b[43m,\u001b[49m\n\u001b[32m     50\u001b[39m \u001b[43m    \u001b[49m\u001b[43m)\u001b[49m\n\u001b[32m     51\u001b[39m     response.raise_for_status()\n\u001b[32m     52\u001b[39m     \u001b[38;5;28;01mreturn\u001b[39;00m SweepInfo(**response.json())\n",
            "\u001b[36mFile \u001b[39m\u001b[32m~/Documents/Softmax/metta/.venv/lib/python3.11/site-packages/httpx/_api.py:195\u001b[39m, in \u001b[36mget\u001b[39m\u001b[34m(url, params, headers, cookies, auth, proxy, follow_redirects, verify, timeout, trust_env)\u001b[39m\n\u001b[32m    174\u001b[39m \u001b[38;5;28;01mdef\u001b[39;00m\u001b[38;5;250m \u001b[39m\u001b[34mget\u001b[39m(\n\u001b[32m    175\u001b[39m     url: URL | \u001b[38;5;28mstr\u001b[39m,\n\u001b[32m    176\u001b[39m     *,\n\u001b[32m   (...)\u001b[39m\u001b[32m    185\u001b[39m     trust_env: \u001b[38;5;28mbool\u001b[39m = \u001b[38;5;28;01mTrue\u001b[39;00m,\n\u001b[32m    186\u001b[39m ) -> Response:\n\u001b[32m    187\u001b[39m \u001b[38;5;250m    \u001b[39m\u001b[33;03m\"\"\"\u001b[39;00m\n\u001b[32m    188\u001b[39m \u001b[33;03m    Sends a `GET` request.\u001b[39;00m\n\u001b[32m    189\u001b[39m \n\u001b[32m   (...)\u001b[39m\u001b[32m    193\u001b[39m \u001b[33;03m    on this function, as `GET` requests should not include a request body.\u001b[39;00m\n\u001b[32m    194\u001b[39m \u001b[33;03m    \"\"\"\u001b[39;00m\n\u001b[32m--> \u001b[39m\u001b[32m195\u001b[39m     \u001b[38;5;28;01mreturn\u001b[39;00m \u001b[43mrequest\u001b[49m\u001b[43m(\u001b[49m\n\u001b[32m    196\u001b[39m \u001b[43m        \u001b[49m\u001b[33;43m\"\u001b[39;49m\u001b[33;43mGET\u001b[39;49m\u001b[33;43m\"\u001b[39;49m\u001b[43m,\u001b[49m\n\u001b[32m    197\u001b[39m \u001b[43m        \u001b[49m\u001b[43murl\u001b[49m\u001b[43m,\u001b[49m\n\u001b[32m    198\u001b[39m \u001b[43m        \u001b[49m\u001b[43mparams\u001b[49m\u001b[43m=\u001b[49m\u001b[43mparams\u001b[49m\u001b[43m,\u001b[49m\n\u001b[32m    199\u001b[39m \u001b[43m        \u001b[49m\u001b[43mheaders\u001b[49m\u001b[43m=\u001b[49m\u001b[43mheaders\u001b[49m\u001b[43m,\u001b[49m\n\u001b[32m    200\u001b[39m \u001b[43m        \u001b[49m\u001b[43mcookies\u001b[49m\u001b[43m=\u001b[49m\u001b[43mcookies\u001b[49m\u001b[43m,\u001b[49m\n\u001b[32m    201\u001b[39m \u001b[43m        \u001b[49m\u001b[43mauth\u001b[49m\u001b[43m=\u001b[49m\u001b[43mauth\u001b[49m\u001b[43m,\u001b[49m\n\u001b[32m    202\u001b[39m \u001b[43m        \u001b[49m\u001b[43mproxy\u001b[49m\u001b[43m=\u001b[49m\u001b[43mproxy\u001b[49m\u001b[43m,\u001b[49m\n\u001b[32m    203\u001b[39m \u001b[43m        \u001b[49m\u001b[43mfollow_redirects\u001b[49m\u001b[43m=\u001b[49m\u001b[43mfollow_redirects\u001b[49m\u001b[43m,\u001b[49m\n\u001b[32m    204\u001b[39m \u001b[43m        \u001b[49m\u001b[43mverify\u001b[49m\u001b[43m=\u001b[49m\u001b[43mverify\u001b[49m\u001b[43m,\u001b[49m\n\u001b[32m    205\u001b[39m \u001b[43m        \u001b[49m\u001b[43mtimeout\u001b[49m\u001b[43m=\u001b[49m\u001b[43mtimeout\u001b[49m\u001b[43m,\u001b[49m\n\u001b[32m    206\u001b[39m \u001b[43m        \u001b[49m\u001b[43mtrust_env\u001b[49m\u001b[43m=\u001b[49m\u001b[43mtrust_env\u001b[49m\u001b[43m,\u001b[49m\n\u001b[32m    207\u001b[39m \u001b[43m    \u001b[49m\u001b[43m)\u001b[49m\n",
            "\u001b[36mFile \u001b[39m\u001b[32m~/Documents/Softmax/metta/.venv/lib/python3.11/site-packages/httpx/_api.py:109\u001b[39m, in \u001b[36mrequest\u001b[39m\u001b[34m(method, url, params, content, data, files, json, headers, cookies, auth, proxy, timeout, follow_redirects, verify, trust_env)\u001b[39m\n\u001b[32m     57\u001b[39m \u001b[38;5;250m\u001b[39m\u001b[33;03m\"\"\"\u001b[39;00m\n\u001b[32m     58\u001b[39m \u001b[33;03mSends an HTTP request.\u001b[39;00m\n\u001b[32m     59\u001b[39m \n\u001b[32m   (...)\u001b[39m\u001b[32m    100\u001b[39m \u001b[33;03m```\u001b[39;00m\n\u001b[32m    101\u001b[39m \u001b[33;03m\"\"\"\u001b[39;00m\n\u001b[32m    102\u001b[39m \u001b[38;5;28;01mwith\u001b[39;00m Client(\n\u001b[32m    103\u001b[39m     cookies=cookies,\n\u001b[32m    104\u001b[39m     proxy=proxy,\n\u001b[32m   (...)\u001b[39m\u001b[32m    107\u001b[39m     trust_env=trust_env,\n\u001b[32m    108\u001b[39m ) \u001b[38;5;28;01mas\u001b[39;00m client:\n\u001b[32m--> \u001b[39m\u001b[32m109\u001b[39m     \u001b[38;5;28;01mreturn\u001b[39;00m \u001b[43mclient\u001b[49m\u001b[43m.\u001b[49m\u001b[43mrequest\u001b[49m\u001b[43m(\u001b[49m\n\u001b[32m    110\u001b[39m \u001b[43m        \u001b[49m\u001b[43mmethod\u001b[49m\u001b[43m=\u001b[49m\u001b[43mmethod\u001b[49m\u001b[43m,\u001b[49m\n\u001b[32m    111\u001b[39m \u001b[43m        \u001b[49m\u001b[43murl\u001b[49m\u001b[43m=\u001b[49m\u001b[43murl\u001b[49m\u001b[43m,\u001b[49m\n\u001b[32m    112\u001b[39m \u001b[43m        \u001b[49m\u001b[43mcontent\u001b[49m\u001b[43m=\u001b[49m\u001b[43mcontent\u001b[49m\u001b[43m,\u001b[49m\n\u001b[32m    113\u001b[39m \u001b[43m        \u001b[49m\u001b[43mdata\u001b[49m\u001b[43m=\u001b[49m\u001b[43mdata\u001b[49m\u001b[43m,\u001b[49m\n\u001b[32m    114\u001b[39m \u001b[43m        \u001b[49m\u001b[43mfiles\u001b[49m\u001b[43m=\u001b[49m\u001b[43mfiles\u001b[49m\u001b[43m,\u001b[49m\n\u001b[32m    115\u001b[39m \u001b[43m        \u001b[49m\u001b[43mjson\u001b[49m\u001b[43m=\u001b[49m\u001b[43mjson\u001b[49m\u001b[43m,\u001b[49m\n\u001b[32m    116\u001b[39m \u001b[43m        \u001b[49m\u001b[43mparams\u001b[49m\u001b[43m=\u001b[49m\u001b[43mparams\u001b[49m\u001b[43m,\u001b[49m\n\u001b[32m    117\u001b[39m \u001b[43m        \u001b[49m\u001b[43mheaders\u001b[49m\u001b[43m=\u001b[49m\u001b[43mheaders\u001b[49m\u001b[43m,\u001b[49m\n\u001b[32m    118\u001b[39m \u001b[43m        \u001b[49m\u001b[43mauth\u001b[49m\u001b[43m=\u001b[49m\u001b[43mauth\u001b[49m\u001b[43m,\u001b[49m\n\u001b[32m    119\u001b[39m \u001b[43m        \u001b[49m\u001b[43mfollow_redirects\u001b[49m\u001b[43m=\u001b[49m\u001b[43mfollow_redirects\u001b[49m\u001b[43m,\u001b[49m\n\u001b[32m    120\u001b[39m \u001b[43m    \u001b[49m\u001b[43m)\u001b[49m\n",
            "\u001b[36mFile \u001b[39m\u001b[32m~/Documents/Softmax/metta/.venv/lib/python3.11/site-packages/httpx/_client.py:825\u001b[39m, in \u001b[36mClient.request\u001b[39m\u001b[34m(self, method, url, content, data, files, json, params, headers, cookies, auth, follow_redirects, timeout, extensions)\u001b[39m\n\u001b[32m    810\u001b[39m     warnings.warn(message, \u001b[38;5;167;01mDeprecationWarning\u001b[39;00m, stacklevel=\u001b[32m2\u001b[39m)\n\u001b[32m    812\u001b[39m request = \u001b[38;5;28mself\u001b[39m.build_request(\n\u001b[32m    813\u001b[39m     method=method,\n\u001b[32m    814\u001b[39m     url=url,\n\u001b[32m   (...)\u001b[39m\u001b[32m    823\u001b[39m     extensions=extensions,\n\u001b[32m    824\u001b[39m )\n\u001b[32m--> \u001b[39m\u001b[32m825\u001b[39m \u001b[38;5;28;01mreturn\u001b[39;00m \u001b[38;5;28;43mself\u001b[39;49m\u001b[43m.\u001b[49m\u001b[43msend\u001b[49m\u001b[43m(\u001b[49m\u001b[43mrequest\u001b[49m\u001b[43m,\u001b[49m\u001b[43m \u001b[49m\u001b[43mauth\u001b[49m\u001b[43m=\u001b[49m\u001b[43mauth\u001b[49m\u001b[43m,\u001b[49m\u001b[43m \u001b[49m\u001b[43mfollow_redirects\u001b[49m\u001b[43m=\u001b[49m\u001b[43mfollow_redirects\u001b[49m\u001b[43m)\u001b[49m\n",
            "\u001b[36mFile \u001b[39m\u001b[32m~/Documents/Softmax/metta/.venv/lib/python3.11/site-packages/httpx/_client.py:914\u001b[39m, in \u001b[36mClient.send\u001b[39m\u001b[34m(self, request, stream, auth, follow_redirects)\u001b[39m\n\u001b[32m    910\u001b[39m \u001b[38;5;28mself\u001b[39m._set_timeout(request)\n\u001b[32m    912\u001b[39m auth = \u001b[38;5;28mself\u001b[39m._build_request_auth(request, auth)\n\u001b[32m--> \u001b[39m\u001b[32m914\u001b[39m response = \u001b[38;5;28;43mself\u001b[39;49m\u001b[43m.\u001b[49m\u001b[43m_send_handling_auth\u001b[49m\u001b[43m(\u001b[49m\n\u001b[32m    915\u001b[39m \u001b[43m    \u001b[49m\u001b[43mrequest\u001b[49m\u001b[43m,\u001b[49m\n\u001b[32m    916\u001b[39m \u001b[43m    \u001b[49m\u001b[43mauth\u001b[49m\u001b[43m=\u001b[49m\u001b[43mauth\u001b[49m\u001b[43m,\u001b[49m\n\u001b[32m    917\u001b[39m \u001b[43m    \u001b[49m\u001b[43mfollow_redirects\u001b[49m\u001b[43m=\u001b[49m\u001b[43mfollow_redirects\u001b[49m\u001b[43m,\u001b[49m\n\u001b[32m    918\u001b[39m \u001b[43m    \u001b[49m\u001b[43mhistory\u001b[49m\u001b[43m=\u001b[49m\u001b[43m[\u001b[49m\u001b[43m]\u001b[49m\u001b[43m,\u001b[49m\n\u001b[32m    919\u001b[39m \u001b[43m\u001b[49m\u001b[43m)\u001b[49m\n\u001b[32m    920\u001b[39m \u001b[38;5;28;01mtry\u001b[39;00m:\n\u001b[32m    921\u001b[39m     \u001b[38;5;28;01mif\u001b[39;00m \u001b[38;5;129;01mnot\u001b[39;00m stream:\n",
            "\u001b[36mFile \u001b[39m\u001b[32m~/Documents/Softmax/metta/.venv/lib/python3.11/site-packages/httpx/_client.py:942\u001b[39m, in \u001b[36mClient._send_handling_auth\u001b[39m\u001b[34m(self, request, auth, follow_redirects, history)\u001b[39m\n\u001b[32m    939\u001b[39m request = \u001b[38;5;28mnext\u001b[39m(auth_flow)\n\u001b[32m    941\u001b[39m \u001b[38;5;28;01mwhile\u001b[39;00m \u001b[38;5;28;01mTrue\u001b[39;00m:\n\u001b[32m--> \u001b[39m\u001b[32m942\u001b[39m     response = \u001b[38;5;28;43mself\u001b[39;49m\u001b[43m.\u001b[49m\u001b[43m_send_handling_redirects\u001b[49m\u001b[43m(\u001b[49m\n\u001b[32m    943\u001b[39m \u001b[43m        \u001b[49m\u001b[43mrequest\u001b[49m\u001b[43m,\u001b[49m\n\u001b[32m    944\u001b[39m \u001b[43m        \u001b[49m\u001b[43mfollow_redirects\u001b[49m\u001b[43m=\u001b[49m\u001b[43mfollow_redirects\u001b[49m\u001b[43m,\u001b[49m\n\u001b[32m    945\u001b[39m \u001b[43m        \u001b[49m\u001b[43mhistory\u001b[49m\u001b[43m=\u001b[49m\u001b[43mhistory\u001b[49m\u001b[43m,\u001b[49m\n\u001b[32m    946\u001b[39m \u001b[43m    \u001b[49m\u001b[43m)\u001b[49m\n\u001b[32m    947\u001b[39m     \u001b[38;5;28;01mtry\u001b[39;00m:\n\u001b[32m    948\u001b[39m         \u001b[38;5;28;01mtry\u001b[39;00m:\n",
            "\u001b[36mFile \u001b[39m\u001b[32m~/Documents/Softmax/metta/.venv/lib/python3.11/site-packages/httpx/_client.py:979\u001b[39m, in \u001b[36mClient._send_handling_redirects\u001b[39m\u001b[34m(self, request, follow_redirects, history)\u001b[39m\n\u001b[32m    976\u001b[39m \u001b[38;5;28;01mfor\u001b[39;00m hook \u001b[38;5;129;01min\u001b[39;00m \u001b[38;5;28mself\u001b[39m._event_hooks[\u001b[33m\"\u001b[39m\u001b[33mrequest\u001b[39m\u001b[33m\"\u001b[39m]:\n\u001b[32m    977\u001b[39m     hook(request)\n\u001b[32m--> \u001b[39m\u001b[32m979\u001b[39m response = \u001b[38;5;28;43mself\u001b[39;49m\u001b[43m.\u001b[49m\u001b[43m_send_single_request\u001b[49m\u001b[43m(\u001b[49m\u001b[43mrequest\u001b[49m\u001b[43m)\u001b[49m\n\u001b[32m    980\u001b[39m \u001b[38;5;28;01mtry\u001b[39;00m:\n\u001b[32m    981\u001b[39m     \u001b[38;5;28;01mfor\u001b[39;00m hook \u001b[38;5;129;01min\u001b[39;00m \u001b[38;5;28mself\u001b[39m._event_hooks[\u001b[33m\"\u001b[39m\u001b[33mresponse\u001b[39m\u001b[33m\"\u001b[39m]:\n",
            "\u001b[36mFile \u001b[39m\u001b[32m~/Documents/Softmax/metta/.venv/lib/python3.11/site-packages/httpx/_client.py:1014\u001b[39m, in \u001b[36mClient._send_single_request\u001b[39m\u001b[34m(self, request)\u001b[39m\n\u001b[32m   1009\u001b[39m     \u001b[38;5;28;01mraise\u001b[39;00m \u001b[38;5;167;01mRuntimeError\u001b[39;00m(\n\u001b[32m   1010\u001b[39m         \u001b[33m\"\u001b[39m\u001b[33mAttempted to send an async request with a sync Client instance.\u001b[39m\u001b[33m\"\u001b[39m\n\u001b[32m   1011\u001b[39m     )\n\u001b[32m   1013\u001b[39m \u001b[38;5;28;01mwith\u001b[39;00m request_context(request=request):\n\u001b[32m-> \u001b[39m\u001b[32m1014\u001b[39m     response = \u001b[43mtransport\u001b[49m\u001b[43m.\u001b[49m\u001b[43mhandle_request\u001b[49m\u001b[43m(\u001b[49m\u001b[43mrequest\u001b[49m\u001b[43m)\u001b[49m\n\u001b[32m   1016\u001b[39m \u001b[38;5;28;01massert\u001b[39;00m \u001b[38;5;28misinstance\u001b[39m(response.stream, SyncByteStream)\n\u001b[32m   1018\u001b[39m response.request = request\n",
            "\u001b[36mFile \u001b[39m\u001b[32m~/Documents/Softmax/metta/.venv/lib/python3.11/site-packages/httpx/_transports/default.py:249\u001b[39m, in \u001b[36mHTTPTransport.handle_request\u001b[39m\u001b[34m(self, request)\u001b[39m\n\u001b[32m    235\u001b[39m \u001b[38;5;28;01mimport\u001b[39;00m\u001b[38;5;250m \u001b[39m\u001b[34;01mhttpcore\u001b[39;00m\n\u001b[32m    237\u001b[39m req = httpcore.Request(\n\u001b[32m    238\u001b[39m     method=request.method,\n\u001b[32m    239\u001b[39m     url=httpcore.URL(\n\u001b[32m   (...)\u001b[39m\u001b[32m    247\u001b[39m     extensions=request.extensions,\n\u001b[32m    248\u001b[39m )\n\u001b[32m--> \u001b[39m\u001b[32m249\u001b[39m \u001b[43m\u001b[49m\u001b[38;5;28;43;01mwith\u001b[39;49;00m\u001b[43m \u001b[49m\u001b[43mmap_httpcore_exceptions\u001b[49m\u001b[43m(\u001b[49m\u001b[43m)\u001b[49m\u001b[43m:\u001b[49m\n\u001b[32m    250\u001b[39m \u001b[43m    \u001b[49m\u001b[43mresp\u001b[49m\u001b[43m \u001b[49m\u001b[43m=\u001b[49m\u001b[43m \u001b[49m\u001b[38;5;28;43mself\u001b[39;49m\u001b[43m.\u001b[49m\u001b[43m_pool\u001b[49m\u001b[43m.\u001b[49m\u001b[43mhandle_request\u001b[49m\u001b[43m(\u001b[49m\u001b[43mreq\u001b[49m\u001b[43m)\u001b[49m\n\u001b[32m    252\u001b[39m \u001b[38;5;28;01massert\u001b[39;00m \u001b[38;5;28misinstance\u001b[39m(resp.stream, typing.Iterable)\n",
            "\u001b[36mFile \u001b[39m\u001b[32m~/.local/share/uv/python/cpython-3.11.7-macos-aarch64-none/lib/python3.11/contextlib.py:158\u001b[39m, in \u001b[36m_GeneratorContextManager.__exit__\u001b[39m\u001b[34m(self, typ, value, traceback)\u001b[39m\n\u001b[32m    156\u001b[39m     value = typ()\n\u001b[32m    157\u001b[39m \u001b[38;5;28;01mtry\u001b[39;00m:\n\u001b[32m--> \u001b[39m\u001b[32m158\u001b[39m     \u001b[38;5;28mself\u001b[39m.gen.throw(typ, value, traceback)\n\u001b[32m    159\u001b[39m \u001b[38;5;28;01mexcept\u001b[39;00m \u001b[38;5;167;01mStopIteration\u001b[39;00m \u001b[38;5;28;01mas\u001b[39;00m exc:\n\u001b[32m    160\u001b[39m     \u001b[38;5;66;03m# Suppress StopIteration *unless* it's the same exception that\u001b[39;00m\n\u001b[32m    161\u001b[39m     \u001b[38;5;66;03m# was passed to throw().  This prevents a StopIteration\u001b[39;00m\n\u001b[32m    162\u001b[39m     \u001b[38;5;66;03m# raised inside the \"with\" statement from being suppressed.\u001b[39;00m\n\u001b[32m    163\u001b[39m     \u001b[38;5;28;01mreturn\u001b[39;00m exc \u001b[38;5;129;01mis\u001b[39;00m \u001b[38;5;129;01mnot\u001b[39;00m value\n",
            "\u001b[36mFile \u001b[39m\u001b[32m~/Documents/Softmax/metta/.venv/lib/python3.11/site-packages/httpx/_transports/default.py:118\u001b[39m, in \u001b[36mmap_httpcore_exceptions\u001b[39m\u001b[34m()\u001b[39m\n\u001b[32m    115\u001b[39m     \u001b[38;5;28;01mraise\u001b[39;00m\n\u001b[32m    117\u001b[39m message = \u001b[38;5;28mstr\u001b[39m(exc)\n\u001b[32m--> \u001b[39m\u001b[32m118\u001b[39m \u001b[38;5;28;01mraise\u001b[39;00m mapped_exc(message) \u001b[38;5;28;01mfrom\u001b[39;00m\u001b[38;5;250m \u001b[39m\u001b[34;01mexc\u001b[39;00m\n",
            "\u001b[31mUnsupportedProtocol\u001b[39m: Request URL is missing an 'http://' or 'https://' protocol."
          ]
        }
      ],
      "source": [
        "# Load sweep data\n",
        "print(f\"Loading sweep data from WandB...\")\n",
        "print(f\"Entity: {WANDB_ENTITY}\")\n",
        "print(f\"Project: {WANDB_PROJECT}\")\n",
        "print(f\"Sweep ID: {WANDB_SWEEP_ID}\")\n",
        "\n",
        "cogweb_client = CogwebClient.get_client(base_url=SWEEP_SERVER_URI)\n",
        "sweep_client = cogweb_client.sweep_client()\n",
        "WANDB_SWEEP_ID = sweep_client.get_sweep(WANDB_SWEEP_NAME).wandb_sweep_id\n",
        "\n",
        "observations = fetch_protein_observations_from_wandb(\n",
        "    wandb_entity=WANDB_ENTITY,\n",
        "    wandb_project=WANDB_PROJECT,\n",
        "    wandb_sweep_id=WANDB_SWEEP_ID,\n",
        "    max_observations=MAX_OBSERVATIONS\n",
        ")\n",
        "\n",
        "print(f\"\\nLoaded {len(observations)} observations\")\n",
        "\n",
        "# Convert to DataFrame\n",
        "df = extract_observations_to_dataframe(observations)\n",
        "print(f\"Valid observations after filtering: {len(df)}\")\n"
      ]
    },
    {
      "cell_type": "raw",
      "metadata": {
        "vscode": {
          "languageId": "raw"
        }
      },
      "source": [
        "## 1. Sweep Summary Statistics\n"
      ]
    },
    {
      "cell_type": "code",
      "execution_count": null,
      "metadata": {},
      "outputs": [],
      "source": [
        "# Calculate summary statistics\n",
        "if not df.empty:\n",
        "    # Identify parameter columns (exclude metrics)\n",
        "    metric_cols = ['score', 'cost', 'time']\n",
        "    param_cols = [col for col in df.columns if col not in metric_cols]\n",
        "    \n",
        "    # Get unique parameter values\n",
        "    param_summary = {}\n",
        "    for col in param_cols:\n",
        "        if pd.api.types.is_numeric_dtype(df[col]):\n",
        "            param_summary[col] = {\n",
        "                'type': 'numeric',\n",
        "                'min': df[col].min(),\n",
        "                'max': df[col].max(),\n",
        "                'mean': df[col].mean(),\n",
        "                'std': df[col].std(),\n",
        "                'unique_values': df[col].nunique()\n",
        "            }\n",
        "        else:\n",
        "            param_summary[col] = {\n",
        "                'type': 'categorical',\n",
        "                'unique_values': df[col].nunique(),\n",
        "                'values': df[col].unique().tolist()[:10]  # Show first 10 unique values\n",
        "            }\n",
        "    \n",
        "    # Display sweep summary\n",
        "    print(\"=\" * 80)\n",
        "    print(\"SWEEP SUMMARY\")\n",
        "    print(\"=\" * 80)\n",
        "    \n",
        "    print(f\"\\nTotal Runs: {len(df)}\")\n",
        "    print(f\"Successful Runs: {len(df[df['score'].notna()])}\")\n",
        "    print(f\"Failed Runs: {len(observations) - len(df)}\")\n",
        "    \n",
        "    print(f\"\\nMetrics Summary:\")\n",
        "    print(f\"  Average Score: {df['score'].mean():.4f} (±{df['score'].std():.4f})\")\n",
        "    print(f\"  Best Score: {df['score'].max():.4f}\")\n",
        "    print(f\"  Worst Score: {df['score'].min():.4f}\")\n",
        "    \n",
        "    print(f\"\\n  Average Run Time: {df['time'].mean():.2f} seconds\")\n",
        "    print(f\"  Total Run Time: {df['time'].sum():.2f} seconds ({df['time'].sum()/3600:.2f} hours)\")\n",
        "    \n",
        "    print(f\"\\n  Average Cost: {df['cost'].mean():.2f}\")\n",
        "    print(f\"  Total Cost: {df['cost'].sum():.2f}\")\n",
        "    \n",
        "    print(f\"\\nParameters Being Swept ({len(param_cols)} total):\")\n",
        "    for i, (param, info) in enumerate(param_summary.items()):\n",
        "        if i < 10:  # Show first 10 parameters\n",
        "            if info['type'] == 'numeric':\n",
        "                print(f\"  - {param}: {info['min']:.4f} to {info['max']:.4f} ({info['unique_values']} unique values)\")\n",
        "            else:\n",
        "                print(f\"  - {param}: {info['unique_values']} unique values\")\n",
        "    \n",
        "    if len(param_cols) > 10:\n",
        "        print(f\"  ... and {len(param_cols) - 10} more parameters\")\n",
        "else:\n",
        "    print(\"No valid observations found in the sweep data.\")\n"
      ]
    },
    {
      "cell_type": "raw",
      "metadata": {
        "vscode": {
          "languageId": "raw"
        }
      },
      "source": [
        "## 2. Cost vs Score Scatter Plot with Level Sets\n"
      ]
    },
    {
      "cell_type": "code",
      "execution_count": null,
      "metadata": {},
      "outputs": [],
      "source": [
        "if not df.empty and 'cost' in df.columns and 'score' in df.columns:\n",
        "    fig, ax = plt.subplots(figsize=FIGURE_SIZE)\n",
        "    \n",
        "    # Remove any NaN values\n",
        "    plot_df = df[['cost', 'score']].dropna()\n",
        "    \n",
        "    if len(plot_df) > 0:\n",
        "        # Create scatter plot\n",
        "        scatter = ax.scatter(plot_df['cost'], plot_df['score'], \n",
        "                           alpha=0.6, s=50, edgecolors='black', linewidth=0.5)\n",
        "        \n",
        "        # Add level sets if we have enough points\n",
        "        if len(plot_df) > 10:\n",
        "            try:\n",
        "                # Create a grid for interpolation\n",
        "                xi = np.linspace(plot_df['cost'].min(), plot_df['cost'].max(), 100)\n",
        "                yi = np.linspace(plot_df['score'].min(), plot_df['score'].max(), 100)\n",
        "                xi, yi = np.meshgrid(xi, yi)\n",
        "                \n",
        "                # Interpolate the data\n",
        "                zi = griddata((plot_df['cost'], plot_df['score']), \n",
        "                            plot_df['score'], \n",
        "                            (xi, yi), \n",
        "                            method='cubic')\n",
        "                \n",
        "                # Create filled contours\n",
        "                contourf = ax.contourf(xi, yi, zi, levels=10, alpha=0.3, cmap='viridis')\n",
        "                \n",
        "                # Add contour lines\n",
        "                contour = ax.contour(xi, yi, zi, levels=10, colors='gray', \n",
        "                                   alpha=0.4, linewidths=0.5)\n",
        "                \n",
        "                # Add colorbar\n",
        "                cbar = plt.colorbar(contourf, ax=ax)\n",
        "                cbar.set_label('Score Level', rotation=270, labelpad=20)\n",
        "            except:\n",
        "                print(\"Could not generate level sets - using scatter plot only\")\n",
        "        \n",
        "        # Highlight best point\n",
        "        best_idx = plot_df['score'].idxmax()\n",
        "        ax.scatter(float(plot_df.loc[best_idx, 'cost']), \n",
        "                  float(plot_df.loc[best_idx, 'score']),\n",
        "                  color='red', s=200, marker='*', \n",
        "                  edgecolors='darkred', linewidth=2,\n",
        "                  label=f'Best Score: {plot_df.loc[best_idx, \"score\"]:.4f}')\n",
        "        \n",
        "        ax.set_xlabel('Cost', fontsize=12)\n",
        "        ax.set_ylabel('Score', fontsize=12)\n",
        "        ax.set_title('Cost vs Score Analysis', fontsize=14, fontweight='bold')\n",
        "        ax.legend()\n",
        "        ax.grid(True, alpha=0.3)\n",
        "        \n",
        "        plt.tight_layout()\n",
        "        plt.show()\n",
        "    else:\n",
        "        print(\"No valid cost/score data to plot\")\n",
        "else:\n",
        "    print(\"Missing cost or score data\")\n"
      ]
    },
    {
      "cell_type": "raw",
      "metadata": {
        "vscode": {
          "languageId": "raw"
        }
      },
      "source": [
        "## 3. Time vs Score Plot\n"
      ]
    },
    {
      "cell_type": "code",
      "execution_count": null,
      "metadata": {},
      "outputs": [],
      "source": [
        "if not df.empty and 'time' in df.columns and 'score' in df.columns:\n",
        "    fig, ax = plt.subplots(figsize=FIGURE_SIZE)\n",
        "    \n",
        "    # Remove NaN values\n",
        "    plot_df = df[['time', 'score']].dropna()\n",
        "    \n",
        "    if len(plot_df) > 0:\n",
        "        # Create scatter plot with regression line\n",
        "        sns.regplot(data=plot_df, x='time', y='score', \n",
        "                   scatter_kws={'alpha': 0.6, 's': 50}, \n",
        "                   line_kws={'color': 'red', 'linewidth': 2},\n",
        "                   ax=ax)\n",
        "        \n",
        "        # Calculate correlation\n",
        "        correlation = plot_df['time'].corr(plot_df['score'])\n",
        "        \n",
        "        ax.set_xlabel('Time (seconds)', fontsize=12)\n",
        "        ax.set_ylabel('Score', fontsize=12)\n",
        "        ax.set_title(f'Time vs Score Analysis\\n(Correlation: {correlation:.3f})', \n",
        "                    fontsize=14, fontweight='bold')\n",
        "        ax.grid(True, alpha=0.3)\n",
        "        \n",
        "        plt.tight_layout()\n",
        "        plt.show()\n",
        "    else:\n",
        "        print(\"No valid time/score data to plot\")\n",
        "else:\n",
        "    print(\"Missing time or score data\")\n"
      ]
    },
    {
      "cell_type": "raw",
      "metadata": {
        "vscode": {
          "languageId": "raw"
        }
      },
      "source": [
        "## 4. Time vs Cost Plot\n"
      ]
    },
    {
      "cell_type": "code",
      "execution_count": null,
      "metadata": {},
      "outputs": [],
      "source": [
        "if not df.empty and 'time' in df.columns and 'cost' in df.columns:\n",
        "    fig, ax = plt.subplots(figsize=FIGURE_SIZE)\n",
        "    \n",
        "    # Remove NaN values\n",
        "    plot_df = df[['time', 'cost']].dropna()\n",
        "    \n",
        "    if len(plot_df) > 0:\n",
        "        # Create scatter plot with regression line\n",
        "        sns.regplot(data=plot_df, x='time', y='cost', \n",
        "                   scatter_kws={'alpha': 0.6, 's': 50}, \n",
        "                   line_kws={'color': 'red', 'linewidth': 2},\n",
        "                   ax=ax)\n",
        "        \n",
        "        # Calculate correlation\n",
        "        correlation = plot_df['time'].corr(plot_df['cost'])\n",
        "        \n",
        "        ax.set_xlabel('Time (seconds)', fontsize=12)\n",
        "        ax.set_ylabel('Cost', fontsize=12)\n",
        "        ax.set_title(f'Time vs Cost Analysis\\n(Correlation: {correlation:.3f})', \n",
        "                    fontsize=14, fontweight='bold')\n",
        "        ax.grid(True, alpha=0.3)\n",
        "        \n",
        "        plt.tight_layout()\n",
        "        plt.show()\n",
        "    else:\n",
        "        print(\"No valid time/cost data to plot\")\n",
        "else:\n",
        "    print(\"Missing time or cost data\")\n"
      ]
    },
    {
      "cell_type": "raw",
      "metadata": {
        "vscode": {
          "languageId": "raw"
        }
      },
      "source": [
        "## 5. Parameter Correlation Matrix\n"
      ]
    },
    {
      "cell_type": "code",
      "execution_count": null,
      "metadata": {},
      "outputs": [],
      "source": [
        "if not df.empty:\n",
        "    # Select only numeric columns\n",
        "    numeric_df = df.select_dtypes(include=[np.number])\n",
        "    \n",
        "    # Remove columns with too few unique values\n",
        "    valid_columns = []\n",
        "    for col in numeric_df.columns:\n",
        "        if numeric_df[col].nunique() >= 2:\n",
        "            valid_columns.append(col)\n",
        "    \n",
        "    if len(valid_columns) > 1:\n",
        "        # Calculate correlation matrix\n",
        "        corr_matrix = numeric_df[valid_columns].corr()\n",
        "        \n",
        "        # If we have too many parameters, focus on those most correlated with score\n",
        "        if 'score' in corr_matrix.columns and len(corr_matrix) > 20:\n",
        "            # Get top correlated parameters with score\n",
        "            score_corr = corr_matrix['score'].abs().sort_values(ascending=False)\n",
        "            top_params = score_corr.head(20).index.tolist()\n",
        "            corr_matrix = corr_matrix.loc[top_params, top_params]\n",
        "        \n",
        "        # Create heatmap\n",
        "        plt.figure(figsize=(12, 10))\n",
        "        \n",
        "        # Create mask for upper triangle\n",
        "        mask = np.triu(np.ones_like(corr_matrix, dtype=bool))\n",
        "        \n",
        "        # Draw heatmap\n",
        "        sns.heatmap(corr_matrix, \n",
        "                   mask=mask,\n",
        "                   annot=True, \n",
        "                   fmt='.2f', \n",
        "                   cmap='RdBu_r',\n",
        "                   vmin=-1, \n",
        "                   vmax=1, \n",
        "                   center=0,\n",
        "                   square=True,\n",
        "                   linewidths=0.5,\n",
        "                   cbar_kws={\"shrink\": 0.8})\n",
        "        \n",
        "        plt.title('Parameter Correlation Matrix', fontsize=16, fontweight='bold', pad=20)\n",
        "        plt.xticks(rotation=45, ha='right')\n",
        "        plt.yticks(rotation=0)\n",
        "        plt.tight_layout()\n",
        "        plt.show()\n",
        "    else:\n",
        "        print(\"Not enough numeric parameters for correlation analysis\")\n",
        "else:\n",
        "    print(\"No data available for correlation analysis\")\n"
      ]
    },
    {
      "cell_type": "raw",
      "metadata": {
        "vscode": {
          "languageId": "raw"
        }
      },
      "source": [
        "## 6. Parameter Importance Analysis\n"
      ]
    },
    {
      "cell_type": "code",
      "execution_count": null,
      "metadata": {},
      "outputs": [],
      "source": [
        "if not df.empty and 'score' in df.columns:\n",
        "    # Select numeric columns excluding metrics\n",
        "    metric_cols = ['score', 'cost', 'time']\n",
        "    numeric_cols = df.select_dtypes(include=[np.number]).columns\n",
        "    param_cols = [col for col in numeric_cols if col not in metric_cols]\n",
        "    \n",
        "    if len(param_cols) > 0:\n",
        "        # Calculate correlations with score\n",
        "        correlations = {}\n",
        "        for col in param_cols:\n",
        "            # Only include if we have enough unique values\n",
        "            if df[col].nunique() >= 2:\n",
        "                corr = df[col].corr(df['score'])\n",
        "                if not np.isnan(corr):\n",
        "                    correlations[col] = corr\n",
        "        \n",
        "        if correlations:\n",
        "            # Sort by absolute correlation\n",
        "            importance_df = pd.DataFrame([\n",
        "                {'parameter': k, 'correlation': v, 'abs_correlation': abs(v)}\n",
        "                for k, v in correlations.items()\n",
        "            ]).sort_values('abs_correlation', ascending=False).head(TOP_K_PARAMETERS)\n",
        "            \n",
        "            # Create importance plot\n",
        "            fig, ax = plt.subplots(figsize=(10, 8))\n",
        "            \n",
        "            # Create color map based on correlation direction\n",
        "            colors = ['darkred' if x < 0 else 'darkblue' for x in importance_df['correlation']]\n",
        "            \n",
        "            # Create horizontal bar plot\n",
        "            bars = ax.barh(importance_df['parameter'], \n",
        "                          importance_df['abs_correlation'],\n",
        "                          color=colors, alpha=0.7)\n",
        "            \n",
        "            # Add correlation values as text\n",
        "            for i, (idx, row) in enumerate(importance_df.iterrows()):\n",
        "                ax.text(row['abs_correlation'] + 0.01, i, \n",
        "                       f\"{row['correlation']:.3f}\",\n",
        "                       va='center', fontsize=9)\n",
        "            \n",
        "            ax.set_xlabel('Absolute Correlation with Score', fontsize=12)\n",
        "            ax.set_ylabel('Parameter', fontsize=12)\n",
        "            ax.set_title(f'Top {len(importance_df)} Most Important Parameters', \n",
        "                        fontsize=14, fontweight='bold')\n",
        "            ax.set_xlim(0, 1.1)\n",
        "            ax.grid(True, axis='x', alpha=0.3)\n",
        "            \n",
        "            # Add legend\n",
        "            from matplotlib.patches import Patch\n",
        "            legend_elements = [\n",
        "                Patch(facecolor='darkblue', alpha=0.7, label='Positive correlation'),\n",
        "                Patch(facecolor='darkred', alpha=0.7, label='Negative correlation')\n",
        "            ]\n",
        "            ax.legend(handles=legend_elements, loc='lower right')\n",
        "            \n",
        "            plt.tight_layout()\n",
        "            plt.show()\n",
        "            \n",
        "            # Print detailed importance table\n",
        "            print(\"\\nParameter Importance Details:\")\n",
        "            print(\"=\" * 60)\n",
        "            for idx, row in importance_df.iterrows():\n",
        "                direction = \"↑\" if row['correlation'] > 0 else \"↓\"\n",
        "                print(f\"{row['parameter']:30s} {direction} {row['correlation']:+.4f}\")\n",
        "        else:\n",
        "            print(\"No valid parameter correlations found\")\n",
        "    else:\n",
        "        print(\"No numeric parameters found for importance analysis\")\n",
        "else:\n",
        "    print(\"No score data available for importance analysis\")\n"
      ]
    },
    {
      "cell_type": "raw",
      "metadata": {
        "vscode": {
          "languageId": "raw"
        }
      },
      "source": [
        "## 7. Additional Analysis - Best Configurations\n"
      ]
    },
    {
      "cell_type": "code",
      "execution_count": null,
      "metadata": {},
      "outputs": [],
      "source": [
        "# Show top performing configurations\n",
        "if not df.empty and 'score' in df.columns:\n",
        "    # Get top 5 configurations\n",
        "    top_configs = df.nlargest(5, 'score')\n",
        "    \n",
        "    print(\"\\nTop 5 Best Performing Configurations:\")\n",
        "    print(\"=\" * 80)\n",
        "    \n",
        "    for i, (idx, row) in enumerate(top_configs.iterrows(), 1):\n",
        "        print(f\"\\nRank {i}: Score = {row['score']:.4f}, Cost = {row.get('cost', 'N/A')}, Time = {row.get('time', 'N/A')}\")\n",
        "        print(\"-\" * 40)\n",
        "        \n",
        "        # Show only parameters that differ from the median\n",
        "        param_cols = [col for col in df.columns if col not in ['score', 'cost', 'time']]\n",
        "        for col in param_cols:\n",
        "            if pd.api.types.is_numeric_dtype(df[col]):\n",
        "                median_val = df[col].median()\n",
        "                if abs(row[col] - median_val) > 0.01 * abs(median_val):  # More than 1% different\n",
        "                    print(f\"  {col}: {row[col]:.4f} (median: {median_val:.4f})\")\n"
      ]
    },
    {
      "cell_type": "raw",
      "metadata": {
        "vscode": {
          "languageId": "raw"
        }
      },
      "source": [
        "## 8. Export Results\n"
      ]
    },
    {
      "cell_type": "code",
      "execution_count": null,
      "metadata": {},
      "outputs": [],
      "source": [
        "# Optional: Export processed data for further analysis\n",
        "if not df.empty:\n",
        "    output_file = f\"sweep_analysis_{WANDB_SWEEP_ID}.csv\"\n",
        "    df.to_csv(output_file, index=False)\n",
        "    print(f\"\\nExported sweep data to: {output_file}\")\n",
        "    print(f\"Total rows exported: {len(df)}\")\n"
      ]
    }
  ],
  "metadata": {
    "kernelspec": {
      "display_name": ".venv",
      "language": "python",
      "name": "python3"
    },
    "language_info": {
      "codemirror_mode": {
        "name": "ipython",
        "version": 3
      },
      "file_extension": ".py",
      "mimetype": "text/x-python",
      "name": "python",
      "nbconvert_exporter": "python",
      "pygments_lexer": "ipython3",
      "version": "3.11.7"
    }
  },
  "nbformat": 4,
  "nbformat_minor": 2
}
