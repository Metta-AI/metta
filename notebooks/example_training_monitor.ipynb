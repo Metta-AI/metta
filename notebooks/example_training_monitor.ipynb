{
 "cells": [
  {
   "cell_type": "code",
   "source": "# First get the DataFrame as usual\nrun_names = [\"daveey.navigation.low_reward.baseline.2\", \"daveey.navigation.low_reward.baseline.07-18\"]\ndf = monitor_training_statuses(run_names)\n\n# Then display it with HTML formatting and clickable links\nfrom display_training_html import display_training_table_html\ndisplay_training_table_html(df)",
   "metadata": {},
   "execution_count": null,
   "outputs": []
  },
  {
   "cell_type": "markdown",
   "source": "## 8. Display with HTML Links\n\nFor a cleaner display in Jupyter with clickable link icons:",
   "metadata": {}
  },
  {
   "cell_type": "code",
   "source": "# Option 3: Use monitor_training_statuses with fetch_data=False\ndf = monitor_training_statuses(run_names, fetch_data=False)",
   "metadata": {},
   "execution_count": null,
   "outputs": []
  },
  {
   "cell_type": "code",
   "source": "# Option 2: Display clickable links in Jupyter\ndisplay_run_links(run_names[:10])  # Show first 10 as clickable links",
   "metadata": {},
   "execution_count": null,
   "outputs": []
  },
  {
   "cell_type": "code",
   "source": "# Find many runs and just get their URLs\nrun_names = find_training_jobs(author=\"daveey\", limit=20)\n\n# Option 1: Get URLs as dictionary\nurls = get_wandb_urls(run_names)\nprint(f\"Found {len(urls)} runs\")\nfor name, url in list(urls.items())[:5]:  # Show first 5\n    print(f\"{name}: {url}\")\n\nprint(\"\\n... and more\")",
   "metadata": {},
   "execution_count": null,
   "outputs": []
  },
  {
   "cell_type": "markdown",
   "source": "## 7. Lightweight URL Display\n\nGet W&B URLs without fetching full run data (much faster for many runs):",
   "metadata": {}
  },
  {
   "cell_type": "markdown",
   "metadata": {},
   "source": [
    "# Training Monitor Example\n",
    "\n",
    "This notebook demonstrates how to use the training monitoring functions."
   ]
  },
  {
   "cell_type": "code",
   "execution_count": null,
   "metadata": {},
   "outputs": [],
   "source": "from mettabook_functions import (\n    find_training_jobs, \n    monitor_training_statuses,\n    get_wandb_urls,\n    display_run_links\n)"
  },
  {
   "cell_type": "markdown",
   "metadata": {},
   "source": [
    "## 1. Monitor Specific Training Jobs\n",
    "\n",
    "Monitor training runs by their names:"
   ]
  },
  {
   "cell_type": "code",
   "execution_count": null,
   "metadata": {},
   "outputs": [],
   "source": [
    "# Monitor specific runs\n",
    "run_names = [\"daveey.navigation.low_reward.baseline.2\", \"daveey.navigation.low_reward.baseline.07-18\"]\n",
    "df = monitor_training_statuses(run_names)"
   ]
  },
  {
   "cell_type": "markdown",
   "metadata": {},
   "source": [
    "## 2. Find Training Jobs by Criteria\n",
    "\n",
    "Search for training runs based on various filters:"
   ]
  },
  {
   "cell_type": "code",
   "execution_count": null,
   "metadata": {},
   "outputs": [],
   "source": [
    "# Find all runs with specific tags\n",
    "run_names = find_training_jobs(\n",
    "    wandb_tags=[\"low_reward\"],\n",
    "    author=\"daveey\",\n",
    "    limit=10\n",
    ")\n",
    "print(f\"Found {len(run_names)} runs\")\n",
    "print(\"Run names:\", run_names)"
   ]
  },
  {
   "cell_type": "code",
   "execution_count": null,
   "metadata": {},
   "outputs": [],
   "source": [
    "# Monitor the found runs\n",
    "if run_names:\n",
    "    df = monitor_training_statuses(run_names)"
   ]
  },
  {
   "cell_type": "markdown",
   "metadata": {},
   "source": [
    "## 3. Find Running Jobs\n",
    "\n",
    "Find all currently running training jobs:"
   ]
  },
  {
   "cell_type": "code",
   "execution_count": null,
   "metadata": {},
   "outputs": [],
   "source": [
    "# Find all running jobs\n",
    "running_jobs = find_training_jobs(\n",
    "    state=\"running\",\n",
    "    limit=20\n",
    ")\n",
    "print(f\"Found {len(running_jobs)} running jobs\")\n",
    "\n",
    "if running_jobs:\n",
    "    df = monitor_training_statuses(running_jobs)"
   ]
  },
  {
   "cell_type": "markdown",
   "metadata": {},
   "source": [
    "## 4. Find Recent Jobs by Date\n",
    "\n",
    "Find jobs created in a specific time range:"
   ]
  },
  {
   "cell_type": "code",
   "execution_count": null,
   "metadata": {},
   "outputs": [],
   "source": [
    "# Find jobs created in the last week\n",
    "from datetime import datetime, timedelta\n",
    "\n",
    "last_week = (datetime.now() - timedelta(days=7)).strftime('%Y-%m-%d')\n",
    "recent_jobs = find_training_jobs(\n",
    "    created_after=last_week,\n",
    "    limit=10\n",
    ")\n",
    "print(f\"Found {len(recent_jobs)} jobs from the last week\")\n",
    "\n",
    "if recent_jobs:\n",
    "    df = monitor_training_statuses(recent_jobs)"
   ]
  },
  {
   "cell_type": "markdown",
   "metadata": {},
   "source": [
    "## 5. Custom Metrics Display\n",
    "\n",
    "Show specific metrics in the monitoring table:"
   ]
  },
  {
   "cell_type": "code",
   "execution_count": null,
   "metadata": {},
   "outputs": [],
   "source": [
    "# Monitor with custom metrics\n",
    "run_names = [\"daveey.lp.16x4.bptt8\"]  # Replace with your run names\n",
    "df = monitor_training_statuses(\n",
    "    run_names,\n",
    "    show_metrics=[\"_step\", \"overview/reward\", \"overview/reward_mean\", \"trainer/fps\"]\n",
    ")"
   ]
  },
  {
   "cell_type": "markdown",
   "metadata": {},
   "source": [
    "## 6. Work with the DataFrame\n",
    "\n",
    "The function returns a pandas DataFrame for further analysis:"
   ]
  },
  {
   "cell_type": "code",
   "execution_count": null,
   "metadata": {},
   "outputs": [],
   "source": [
    "# The returned DataFrame can be used for further analysis\n",
    "if 'df' in locals() and not df.empty:\n",
    "    # Filter only running jobs\n",
    "    running_df = df[df['state'] == 'running']\n",
    "    print(f\"\\nCurrently running: {len(running_df)} jobs\")\n",
    "    \n",
    "    # Sort by creation date\n",
    "    sorted_df = df.sort_values('created', ascending=False)\n",
    "    print(\"\\nMost recent jobs:\")\n",
    "    print(sorted_df[['name', 'state', 'created']].head())"
   ]
  }
 ],
 "metadata": {
  "kernelspec": {
   "display_name": "Python 3",
   "language": "python",
   "name": "python3"
  },
  "language_info": {
   "codemirror_mode": {
    "name": "ipython",
    "version": 3
   },
   "file_extension": ".py",
   "mimetype": "text/x-python",
   "name": "python",
   "nbconvert_exporter": "python",
   "pygments_lexer": "ipython3",
   "version": "3.11.7"
  }
 },
 "nbformat": 4,
 "nbformat_minor": 4
}