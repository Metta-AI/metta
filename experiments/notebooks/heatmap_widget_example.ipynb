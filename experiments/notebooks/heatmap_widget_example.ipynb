{
 "cells": [
  {
   "cell_type": "markdown",
   "metadata": {
    "vscode": {
     "languageId": "raw"
    }
   },
   "source": [
    "# Interactive Heatmap Widget Example\n",
    "\n",
    "This notebook demonstrates how to use the `HeatmapWidget` - an anywidget-based implementation of the observatory heatmap component for Jupyter notebooks.\n",
    "\n",
    "The widget provides interactive policy evaluation heatmaps with:\n",
    "- Hover effects showing detailed information\n",
    "- Double-click to open replay URLs\n",
    "- Dynamic control over number of policies displayed\n",
    "- Automatic organization by evaluation categories\n"
   ]
  },
  {
   "cell_type": "markdown",
   "metadata": {
    "vscode": {
     "languageId": "raw"
    }
   },
   "source": [
    "## Installation\n",
    "\n",
    "First, make sure you have the required dependencies:\n",
    "`pip install anywidget traitlets`\n"
   ]
  },
  {
   "cell_type": "markdown",
   "metadata": {
    "vscode": {
     "languageId": "raw"
    }
   },
   "source": [
    "## Import and Basic Setup\n"
   ]
  },
  {
   "cell_type": "code",
   "execution_count": 155,
   "metadata": {
    "editable": true,
    "slideshow": {
     "slide_type": ""
    },
    "tags": []
   },
   "outputs": [
    {
     "name": "stdout",
     "output_type": "stream",
     "text": [
      "The autoreload extension is already loaded. To reload it, use:\n",
      "  %reload_ext autoreload\n",
      "The anywidget extension is already loaded. To reload it, use:\n",
      "  %reload_ext anywidget\n",
      "Setup complete! Auto-reload enabled.\n"
     ]
    }
   ],
   "source": [
    "%load_ext autoreload\n",
    "%autoreload 2\n",
    "import os\n",
    "import sys\n",
    "from datetime import datetime\n",
    "\n",
    "import matplotlib.pyplot as plt\n",
    "import pandas as pd\n",
    "import plotly.graph_objects as go\n",
    "from plotly.subplots import make_subplots\n",
    "\n",
    "from experiments.notebooks.utils.metrics import fetch_metrics\n",
    "from experiments.notebooks.utils.monitoring import monitor_training_statuses\n",
    "from experiments.notebooks.utils.replays import show_replay\n",
    "from experiments.notebooks.utils.training import launch_training\n",
    "from experiments.notebooks.utils.metrics import find_training_jobs\n",
    "\n",
    "%matplotlib inline\n",
    "plt.style.use(\"default\")\n",
    "\n",
    "%load_ext anywidget\n",
    "\n",
    "print(\"Setup complete! Auto-reload enabled.\")\n"
   ]
  },
  {
   "cell_type": "markdown",
   "metadata": {
    "vscode": {
     "languageId": "raw"
    }
   },
   "source": [
    "## Example 1: Demo Heatmap with Sample Data\n",
    "\n",
    "Let's start with a simple demo that includes sample data:\n"
   ]
  },
  {
   "cell_type": "code",
   "execution_count": 156,
   "metadata": {},
   "outputs": [
    {
     "name": "stdout",
     "output_type": "stream",
     "text": [
      "🎯 Creating demo heatmap widget...\n",
      "🚀 HeatmapWidget initialized successfully!\n",
      "📊 Data set with 3 policies and 4 evaluations\n",
      "📈 Selected metric: reward\n",
      "✅ Demo heatmap widget created with sample data!\n"
     ]
    },
    {
     "data": {
      "application/vnd.jupyter.widget-view+json": {
       "model_id": "0e8e7ad935aa4913a1668fec4d0f32ae",
       "version_major": 2,
       "version_minor": 1
      },
      "text/plain": [
       "HeatmapWidget(heatmap_data={'cells': {'policy_alpha_v1': {'navigation/maze1': {'value': 85.2, 'replayUrl': 'sa…"
      ]
     },
     "execution_count": 156,
     "metadata": {},
     "output_type": "execute_result"
    }
   ],
   "source": [
    "from experiments.notebooks.utils.heatmap_widget import HeatmapWidget, create_demo_heatmap, create_heatmap_widget\n",
    "from IPython.display import display\n",
    "\n",
    "# Create a demo heatmap with sample data\n",
    "demo_widget = create_demo_heatmap()\n",
    "\n",
    "# Display the widget\n",
    "demo_widget"
   ]
  },
  {
   "cell_type": "raw",
   "metadata": {
    "vscode": {
     "languageId": "raw"
    }
   },
   "source": [
    "## Real Data from Metta Database\n",
    "\n",
    "Now let's write code that fetches real evaluation data from metta's databases:\n",
    "\n",
    "First we'll need some API variables.\n"
   ]
  },
  {
   "cell_type": "code",
   "execution_count": 157,
   "metadata": {},
   "outputs": [],
   "source": [
    "api_base_url = \"https://api.observatory.softmax-research.net\"\n",
    "auth_token = \"\"\n"
   ]
  },
  {
   "cell_type": "code",
   "execution_count": 158,
   "metadata": {},
   "outputs": [
    {
     "name": "stdout",
     "output_type": "stream",
     "text": [
      "🚀 Testing the fixed API client...\n",
      "🧪 Testing fixed API client...\n",
      "https://api.observatory.softmax-research.net\n",
      "\n",
      "📋 Testing /heatmap/policies endpoint...\n",
      "🔍 Making POST request to: https://api.observatory.softmax-research.net/heatmap/policies\n",
      "🔑 Headers: {'Content-Type': 'application/json', 'X-Auth-Token': ''}\n",
      "📦 Payload: {'search_text': None, 'pagination': {'page': 1, 'page_size': 5}}\n",
      "📨 Response status: 200\n",
      "✅ Success! Got response: <class 'dict'>\n",
      "📊 Found 5 policies\n",
      "🔍 Sample policy: {'id': 'db04a711-77fb-4c4d-bee6-bfac77356980', 'type': 'training_run', 'name': 'jack.research.0724_1312', 'user_id': 'jack@stem.ai', 'created_at': '2025-07-25 09:36:30.650867', 'tags': ['research', 'experiment', 'user:unknown']}\n"
     ]
    }
   ],
   "source": [
    "# 🔧 Fixed API Client Implementation\n",
    "import asyncio\n",
    "import httpx\n",
    "from typing import Dict, List, Optional, Any\n",
    "\n",
    "class MettaAPIClient:\n",
    "    \"\"\"Fixed client that properly handles authentication and response parsing.\"\"\"\n",
    "    \n",
    "    def __init__(self, base_url: str, auth_token: Optional[str] = None):\n",
    "        print(base_url)\n",
    "        self.base_url = base_url.rstrip(\"/\")\n",
    "        self.headers = {\"Content-Type\": \"application/json\"}\n",
    "        if auth_token:\n",
    "            # Use X-Auth-Token header format like extract_training_rewards.py\n",
    "            self.headers[\"X-Auth-Token\"] = auth_token\n",
    "\n",
    "    async def _make_request(self, method: str, endpoint: str, **kwargs):\n",
    "        \"\"\"Make an HTTP request to the API.\"\"\"\n",
    "        url = f\"{self.base_url}{endpoint}\"\n",
    "        print(f\"🔍 Making {method} request to: {url}\")\n",
    "        print(f\"🔑 Headers: {self.headers}\")\n",
    "        if 'json' in kwargs:\n",
    "            print(f\"📦 Payload: {kwargs['json']}\")\n",
    "            \n",
    "        async with httpx.AsyncClient() as client:\n",
    "            response = await client.request(method, url, headers=self.headers, timeout=30.0, **kwargs)\n",
    "            print(f\"📨 Response status: {response.status_code}\")\n",
    "            if response.status_code >= 400:\n",
    "                print(f\"❌ Response body: {response.text}\")\n",
    "            response.raise_for_status()\n",
    "            return response.json()\n",
    "    \n",
    "    async def get_policies(self, search_text: Optional[str] = None, page_size: int = 50):\n",
    "        \"\"\"Get available policies and training runs.\"\"\"\n",
    "        url = \"/heatmap/policies\"\n",
    "        payload = {\n",
    "            \"search_text\": search_text,  # Use None instead of empty string\n",
    "            \"pagination\": {\"page\": 1, \"page_size\": page_size}\n",
    "        }\n",
    "        return await self._make_request(\"POST\", url, json=payload)\n",
    "    \n",
    "    async def get_eval_names(self, training_run_ids: List[str], run_free_policy_ids: List[str] = []):\n",
    "        \"\"\"Get evaluation names for selected policies.\"\"\"\n",
    "        url = \"/heatmap/evals\"\n",
    "        payload = {\n",
    "            \"training_run_ids\": training_run_ids,\n",
    "            \"run_free_policy_ids\": run_free_policy_ids\n",
    "        }\n",
    "        return await self._make_request(\"POST\", url, json=payload)\n",
    "    \n",
    "    async def get_available_metrics(self, training_run_ids: List[str], run_free_policy_ids: List[str], eval_names: List[str]):\n",
    "        \"\"\"Get available metrics for selected policies and evaluations.\"\"\"\n",
    "        url = \"/heatmap/metrics\"\n",
    "        payload = {\n",
    "            \"training_run_ids\": training_run_ids,\n",
    "            \"run_free_policy_ids\": run_free_policy_ids,\n",
    "            \"eval_names\": eval_names\n",
    "        }\n",
    "        return await self._make_request(\"POST\", url, json=payload)\n",
    "    \n",
    "    async def generate_heatmap(self, training_run_ids: List[str], run_free_policy_ids: List[str], \n",
    "                        eval_names: List[str], metric: str, policy_selector: str = \"best\"):\n",
    "        \"\"\"Generate heatmap data.\"\"\"\n",
    "        url = \"/heatmap/heatmap\"\n",
    "        payload = {\n",
    "            \"training_run_ids\": training_run_ids,\n",
    "            \"run_free_policy_ids\": run_free_policy_ids,\n",
    "            \"eval_names\": eval_names,\n",
    "            \"metric\": metric,\n",
    "            \"training_run_policy_selector\": policy_selector\n",
    "        }\n",
    "        return await self._make_request(\"POST\", url, json=payload)\n",
    "\n",
    "    async def get_all_training_runs(self, search_text: Optional[str] = None, page_size: int = 100):\n",
    "        \"\"\"Get all training run names.\"\"\"\n",
    "        url = \"/heatmap/policies\"\n",
    "        payload = {\n",
    "            \"search_text\": search_text,  # Use None instead of empty string\n",
    "            \"pagination\": {\"page\": 1, \"page_size\": page_size}\n",
    "        }\n",
    "        return await self._make_request(\"POST\", url, json=payload)\n",
    "\n",
    "# Test the fixed client with better debugging\n",
    "async def test_api_connection_fixed(api_base_url: str, auth_token: str):\n",
    "    \"\"\"Test API connection with the fixed client.\"\"\"\n",
    "    print(f\"🧪 Testing fixed API client...\")\n",
    "    client = MettaAPIClient(api_base_url, auth_token)\n",
    "    \n",
    "    try:\n",
    "        # Test getting policies\n",
    "        print(\"\\n📋 Testing /heatmap/policies endpoint...\")\n",
    "        policies_response = await client.get_policies(page_size=5)\n",
    "        print(f\"✅ Success! Got response: {type(policies_response)}\")\n",
    "        if isinstance(policies_response, dict) and 'policies' in policies_response:\n",
    "            print(f\"📊 Found {len(policies_response['policies'])} policies\")\n",
    "            if policies_response['policies']:\n",
    "                print(f\"🔍 Sample policy: {policies_response['policies'][0]}\")\n",
    "        else:\n",
    "            print(f\"⚠️  Unexpected response structure: {policies_response}\")\n",
    "        return True\n",
    "        \n",
    "    except Exception as e:\n",
    "        print(f\"❌ Test failed: {e}\")\n",
    "        return False\n",
    "\n",
    "# Run the test\n",
    "print(\"🚀 Testing the fixed API client...\")\n",
    "test_result = await test_api_connection_fixed(\n",
    "    api_base_url=api_base_url,\n",
    "    auth_token=auth_token\n",
    ")\n"
   ]
  },
  {
   "cell_type": "code",
   "execution_count": 159,
   "metadata": {},
   "outputs": [
    {
     "name": "stdout",
     "output_type": "stream",
     "text": [
      "🚀 Metta HTTP API client loaded!\n",
      "📋 Available functions:\n",
      "   - fetch_real_heatmap_data(training_run_names, metrics, policy_selector)\n",
      "   - get_available_policies(api_base_url)\n",
      "   - get_available_eval_names(training_run_ids, api_base_url)\n",
      "   - get_available_metrics(training_run_ids, eval_names, api_base_url)\n",
      "\n",
      "💡 This uses HTTP API calls exactly like repo.ts!\n",
      "🔗 Local development needs app_backend server on http://localhost:8000 and an auth token from ~/.metta/observatory_tokens.yaml\n",
      "🚀 Start with: cd app_backend && uv run python server.py\n"
     ]
    }
   ],
   "source": [
    "async def fetch_real_heatmap_data(\n",
    "    training_run_names: List[str],\n",
    "    metrics: List[str],\n",
    "    policy_selector: str = \"best\",\n",
    "    api_base_url: str = \"http://localhost:8000\",\n",
    "    auth_token: Optional[str] = None,\n",
    "    max_policies: int = 20\n",
    ") -> HeatmapWidget:\n",
    "    \"\"\"\n",
    "    Fetch real evaluation data using the metta HTTP API (same as repo.ts).\n",
    "    \n",
    "    Args:\n",
    "        training_run_names: List of training run names (e.g., [\"daveey.arena.rnd.16x4.2\"])\n",
    "        metrics: List of metrics to include (e.g., [\"reward\", \"heart.get\"])\n",
    "        policy_selector: \"best\" or \"latest\" policy selection strategy\n",
    "        api_base_url: Base URL for the metta API from ~/.metta/observatory_tokens.yaml\n",
    "        auth_token: Auth token from ~/.metta/observatory_tokens.yaml\n",
    "        max_policies: Maximum number of policies to display\n",
    "        \n",
    "    Returns:\n",
    "        HeatmapWidget with real data\n",
    "    \"\"\"\n",
    "    try:\n",
    "        client = MettaAPIClient(api_base_url, auth_token)\n",
    "        \n",
    "        # Step 1: Get available policies to find training run IDs\n",
    "        policies_data = await client.get_policies(page_size=100)\n",
    "        \n",
    "        # Find training run IDs that match our training run names\n",
    "        training_run_ids = []\n",
    "        for policy in policies_data[\"policies\"]:\n",
    "            if policy[\"type\"] == \"training_run\" and any(run_name in policy[\"name\"] for run_name in training_run_names):\n",
    "                training_run_ids.append(policy[\"id\"])\n",
    "        \n",
    "        if not training_run_ids:\n",
    "            print(f\"❌ No training runs found matching: {training_run_names}\")\n",
    "            return create_heatmap_widget()\n",
    "        \n",
    "        # Step 2: Get available evaluations for these training runs\n",
    "        eval_names = await client.get_eval_names(training_run_ids, [])\n",
    "        if not eval_names:\n",
    "            print(\"❌ No evaluations found for selected training runs\")\n",
    "            return create_heatmap_widget()\n",
    "        \n",
    "        # Step 3: Get available metrics \n",
    "        available_metrics = await get_available_metrics(training_run_ids, eval_names, api_base_url)\n",
    "        if not available_metrics:\n",
    "            print(\"❌ No metrics found\")\n",
    "            return create_heatmap_widget()\n",
    "        \n",
    "        # Filter to requested metrics that actually exist\n",
    "        valid_metrics = [m for m in metrics if m in available_metrics]\n",
    "        if not valid_metrics:\n",
    "            print(f\"❌ None of the requested metrics {metrics} are available\")\n",
    "            return create_heatmap_widget()\n",
    "        \n",
    "        # Step 4: Generate heatmap for the first metric\n",
    "        primary_metric = valid_metrics[0]\n",
    "        keys = eval_names\n",
    "        heatmap_data = await client.generate_heatmap(\n",
    "            training_run_ids, [], keys, primary_metric, policy_selector\n",
    "        )\n",
    "        \n",
    "        if not heatmap_data[\"policyNames\"]:\n",
    "            print(\"❌ No heatmap data generated\")\n",
    "            return create_heatmap_widget()\n",
    "        \n",
    "        # Limit policies if requested\n",
    "        policy_names = heatmap_data[\"policyNames\"]\n",
    "        if len(policy_names) > max_policies:\n",
    "            # Sort by average score and take top N\n",
    "            avg_scores = heatmap_data[\"policyAverageScores\"]\n",
    "            top_policies = sorted(avg_scores.keys(), key=lambda p: avg_scores[p], reverse=True)[:max_policies]\n",
    "            \n",
    "            # Filter the data\n",
    "            filtered_cells = {p: heatmap_data[\"cells\"][p] for p in top_policies if p in heatmap_data[\"cells\"]}\n",
    "            heatmap_data[\"policyNames\"] = top_policies\n",
    "            heatmap_data[\"cells\"] = filtered_cells\n",
    "            heatmap_data[\"policyAverageScores\"] = {p: avg_scores[p] for p in top_policies if p in avg_scores}\n",
    "        \n",
    "        # Step 5: Convert to widget format\n",
    "        cells = {}\n",
    "        for policy_name in heatmap_data[\"policyNames\"]:\n",
    "            cells[policy_name] = {}\n",
    "            for eval_name in heatmap_data[\"evalNames\"]:\n",
    "                cell = heatmap_data[\"cells\"].get(policy_name, {}).get(eval_name, {})\n",
    "                cells[policy_name][eval_name] = {\n",
    "                    'metrics': {primary_metric: cell.get(\"value\", 0.0)},\n",
    "                    'replayUrl': cell.get(\"replayUrl\"),\n",
    "                    'evalName': eval_name\n",
    "                }\n",
    "        \n",
    "        # Create widget\n",
    "        widget = create_heatmap_widget()\n",
    "        widget.set_multi_metric_data(\n",
    "            cells=cells,\n",
    "            eval_names=heatmap_data[\"evalNames\"], \n",
    "            policy_names=heatmap_data[\"policyNames\"],\n",
    "            metrics=[primary_metric],\n",
    "            selected_metric=primary_metric\n",
    "        )\n",
    "        \n",
    "        return widget\n",
    "        \n",
    "    except httpx.ConnectError:\n",
    "        print(\"❌ Could not connect to metta API server\")\n",
    "        print(\"💡 Check ~/.metta/observatory_tokens.yaml for the correct API base URL and auth token\")\n",
    "        print(\"💡 Check if app_backend server is running on http://localhost:8000\")\n",
    "        print(\"💡 You can start it with: cd app_backend && uv run python server.py\")\n",
    "        return create_heatmap_widget()\n",
    "    except Exception as e:\n",
    "        print(f\"❌ Error fetching real data: {e}\")\n",
    "        return create_heatmap_widget()\n",
    "\n",
    "async def get_available_policies(api_base_url: str = \"http://localhost:8000\", limit: int = 50):\n",
    "    \"\"\"Get available policies and training runs.\"\"\"\n",
    "    try:\n",
    "        client = MettaAPIClient(api_base_url, auth_token)\n",
    "        return await client.get_policies(page_size=limit)\n",
    "    except Exception as e:\n",
    "        print(f\"❌ Error fetching policies: {e}\")\n",
    "        return {\"policies\": []}\n",
    "\n",
    "async def get_available_eval_names(training_run_ids: List[str], api_base_url: str = \"http://localhost:8000\"):\n",
    "    \"\"\"Get available evaluation names.\"\"\"\n",
    "    try:\n",
    "        client = MettaAPIClient(api_base_url, auth_token)\n",
    "        return await client.get_eval_names(training_run_ids, [])\n",
    "    except Exception as e:\n",
    "        print(f\"❌ Error fetching eval names: {e}\")\n",
    "        return []\n",
    "\n",
    "async def get_available_metrics(training_run_ids: List[str], eval_names: List[str], api_base_url: str = \"http://localhost:8000\"):\n",
    "    \"\"\"Get available metrics.\"\"\"\n",
    "    try:\n",
    "        client = MettaAPIClient(api_base_url, auth_token)\n",
    "        \n",
    "        # Debug: Let's try with a simplified version first\n",
    "        print(f\"🔍 Attempting to get metrics for {len(eval_names)} eval names...\")\n",
    "        print(f\"📋 Eval names: {eval_names}\")\n",
    "        \n",
    "        return await client.get_available_metrics(training_run_ids, [], eval_names)\n",
    "        \n",
    "    except Exception as e:\n",
    "        print(f\"❌ Error fetching metrics: {e}\")\n",
    "        print(f\"📋 Eval names that caused the error: {eval_names}\")\n",
    "        print(f\"🔧 This might be a server-side issue with processing eval_names list\")\n",
    "        \n",
    "        # Let's try with a single eval name to see if it's a list processing issue\n",
    "        if eval_names:\n",
    "            try:\n",
    "                print(f\"🔄 Trying with just the first eval name: {eval_names[0]}\")\n",
    "                result = await client.get_available_metrics(training_run_ids, [], [eval_names[0]])\n",
    "                print(f\"✅ Single eval name worked! Got {len(result)} metrics\")\n",
    "                return result\n",
    "            except Exception as e2:\n",
    "                print(f\"❌ Single eval name also failed: {e2}\")\n",
    "        \n",
    "        print(f\"💡 Falling back to common metrics...\")\n",
    "        # Return some common metrics as fallback\n",
    "        return [\"reward\", \"heart.get\", \"ore_red.get\", \"action.move.success\"]\n",
    "\n",
    "print(\"🚀 Metta HTTP API client loaded!\")\n",
    "print(\"📋 Available functions:\")\n",
    "print(\"   - fetch_real_heatmap_data(training_run_names, metrics, policy_selector)\")\n",
    "print(\"   - get_available_policies(api_base_url)\")  \n",
    "print(\"   - get_available_eval_names(training_run_ids, api_base_url)\")\n",
    "print(\"   - get_available_metrics(training_run_ids, eval_names, api_base_url)\")\n",
    "print(\"\")\n",
    "print(\"💡 This uses HTTP API calls exactly like repo.ts!\")\n",
    "print(\"🔗 Local development needs app_backend server on http://localhost:8000 and an auth token from ~/.metta/observatory_tokens.yaml\")\n",
    "print(\"🚀 Start with: cd app_backend && uv run python server.py\")\n"
   ]
  },
  {
   "cell_type": "markdown",
   "metadata": {
    "vscode": {
     "languageId": "raw"
    }
   },
   "source": [
    "## Example: Using Real Data\n",
    "\n",
    "Now let's explore what's available in the database and create a heatmap with real data:\n"
   ]
  },
  {
   "cell_type": "code",
   "execution_count": 160,
   "metadata": {},
   "outputs": [
    {
     "name": "stdout",
     "output_type": "stream",
     "text": [
      "https://api.observatory.softmax-research.net\n",
      "https://api.observatory.softmax-research.net\n",
      "🔍 Making POST request to: https://api.observatory.softmax-research.net/heatmap/policies\n",
      "🔑 Headers: {'Content-Type': 'application/json', 'X-Auth-Token': ''}\n",
      "📦 Payload: {'search_text': None, 'pagination': {'page': 1, 'page_size': 100}}\n",
      "📨 Response status: 200\n",
      "https://api.observatory.softmax-research.net\n",
      "🔍 Making POST request to: https://api.observatory.softmax-research.net/heatmap/policies\n",
      "🔑 Headers: {'Content-Type': 'application/json', 'X-Auth-Token': ''}\n",
      "📦 Payload: {'search_text': None, 'pagination': {'page': 1, 'page_size': 100}}\n",
      "📨 Response status: 200\n",
      "🔍 Making POST request to: https://api.observatory.softmax-research.net/heatmap/evals\n",
      "🔑 Headers: {'Content-Type': 'application/json', 'X-Auth-Token': ''}\n",
      "📦 Payload: {'training_run_ids': ['67bfefee-82ca-415d-9f00-7357640107d5', 'db04a711-77fb-4c4d-bee6-bfac77356980', 'fe6d7ecb-3f13-4cc9-9955-5af1341d2e2d', '807c8e5b-f112-49c5-b344-9e97cb4e3d91', 'db923221-6a2c-489f-810e-8c835c502244', '74dcf322-ba33-4ab3-a0cc-6d5f5756ab93', 'a4b27392-e2d4-4353-a563-70c2cbf39e21', 'a23fae54-0001-499a-8c86-a9083ad48c35', '98ebe886-6521-4a76-9d31-7dfc69f21209', 'ce7bc1ae-fae9-4dd1-8e6f-bec70c1e00e2', '7f754633-3908-40c6-a75a-28010ac85be4', 'ba5f428e-91f9-42ff-82bf-9d5462022d6c', '998cef5e-f72b-4a27-a697-d6805808ccc9', '25f02ab4-4451-4c8b-8f7f-44fc4f125e6f', '50200440-af4c-4b10-b83a-39d44c207b5a', '428ff90b-3936-4641-9fda-767dd17ecf9a', '5f9c0930-e905-4910-a91a-9205e730b8da', 'd69ae7fe-cac4-452e-af1e-1bf79b33fcfd', '47d4c347-9b60-4893-9e5c-d2354821c9ed', '3b207597-c4b4-440a-ac55-75da90251a3d', 'de9ff29d-d8d8-41f2-b57b-211089fd432e', '9806ed7d-04e5-4112-b38d-ca4e91a8231b', '619930b0-fc19-4ed1-9eb0-4974fefdedb5', '9ce1b2b0-e806-45db-8471-ec72f9e3b21a', '4f5bd1e2-64ef-4cd1-8a76-c96c0cf460c1', '604a6f6f-445a-4172-a06e-42e1c2bc0fc0', '7f69b9ad-ce67-4e44-b955-92a8d13058a5', 'd06d917f-060f-4b5f-a3bf-b67b6ea4ecce', 'f74ac910-f055-45f6-b5b4-bf47484a8cde', '58c41b73-13af-4bc8-91e4-3ef69a42f162', 'de3365fa-f8a0-45b9-be23-88a2be8e06de', '759639d2-5ece-4e1b-b211-b05db9150571', 'b75e3561-7391-4b5d-ae49-720db421188f', 'f2645d83-6ade-42d8-be4e-e632c47cc93e', '756c277a-5090-4f9a-88eb-43a041480208', '1ba2257e-a655-4b5c-9115-2d95c240030a', '5d7268be-29e5-4191-b13b-c429431d27b6', 'd4554ee6-9552-4624-8e37-a64491e8472d', '9478ba62-06b0-4aaf-8644-2a7e9af39557', 'f5fe5a7f-e074-4204-b9d8-58487260fee9', 'cc1b0fe0-82d9-4f5b-bdbe-93480723099f', '19c73d62-28fa-4cf5-92db-d447acc60511', 'bc416727-ea95-40ba-b599-e3e659e46f7d', '784a2738-c826-4b3e-9156-43bd7300724f', '0293bef6-cbb6-4794-8967-fdb9daf368a2', '62f48dbe-7c98-496f-b85a-36a29ad14e72', '5ed836e1-8794-464e-b227-5b8bc6173c7e', '7501b2a7-9e83-4e31-bff3-73d45d78d01f', '6d06945f-d0dd-4d09-8e38-1bad377a13fe', '92006d07-d26b-4a4e-8a32-505c91294223', '11459165-4fee-4533-a7c5-f10d3b0258c0', 'ca06c7e5-44f9-4f17-a589-f14c1ae7a537', '1cbb8e7e-5af6-4af3-b95b-46cfb17d824b', 'd74e0bbd-f882-4b6a-8529-7da517299eed', '81f10a18-3e92-472a-9858-f6d69ece4ee5', 'cfe9bf0c-d1f6-41da-a4cb-ee7564b53804', 'bf7df3be-f26f-43b7-be8e-6ea22998f120', '206f3870-274a-4960-9adb-d1ef18f12e11', 'a0e5ed62-d45b-4092-8208-f80a9272a765', '6d0de4b6-7923-467a-902e-84a2d3a27c95', '8cbd84fe-ff36-43ea-9cf5-23d08c01dd0e', '16be76a7-d4f5-49f7-8b41-ed3a5e91da06', 'd09dd1bb-4f2f-4780-9227-d614f580f8bf', '3bfb5592-a696-49db-94f2-5ba4b3d5019b', '5859169c-0141-407e-bdd9-f9b79a000c78', '65d45156-cd22-400c-99a9-0df50a83985e', '2522e552-dc9b-4ffa-8577-8cce298f15a3', '8a057239-a51f-40c3-9009-b7ac170dfc95', '58fe3f85-bf92-48e7-ab55-070916e15f96', '82fd35aa-aa89-4ed1-9219-7c19764b8800', 'b54e1dba-2636-43ae-9240-09b7fd7c0576', '83324eeb-b02a-43e7-96c2-6889c0e1810b', 'eff8106a-e490-4145-98dc-0acefc60c923', 'c164752c-6a17-4f27-8084-8354000e18d1', 'd580be46-45da-4ae5-a61e-3830db540d4c', '3440bc9f-5cbf-40a9-8f19-193f4f270567', 'dd30dab2-9d50-4f3b-b9c5-900f3ffec31d', 'dee05342-2a13-4dad-a8c0-a6523d476a67', '16a17780-5c5e-4348-875b-d1f74709a9c4', 'e9253d88-7e26-41c2-bf81-784e873de88d', '7b53229c-a657-46de-a777-30fefd19aa45', '5c94c301-15f1-4983-be37-e9ef7d3aee33', 'd3bef90d-271c-4fb9-a823-97ce99555896', '5d28c49b-ace6-413b-a801-d958a1630e59', '31db1884-7c53-49af-957a-41dcd98d6ad5', '80435d1e-3098-4106-ab61-2dc4d93e41d7', 'edbc5879-ab6d-44c1-9131-ef27c8f98be8'], 'run_free_policy_ids': []}\n",
      "📨 Response status: 200\n",
      "https://api.observatory.softmax-research.net\n",
      "🔍 Attempting to get metrics for 48 eval names...\n",
      "📋 Eval names: ['arena/advanced', 'arena/advanced_poor', 'arena/basic', 'arena/combat', 'arena/tag', 'eval/training_task', 'navigation/corridors', 'navigation/cylinder', 'navigation/cylinder_easy', 'navigation/emptyspace_outofsight', 'navigation/emptyspace_sparse', 'navigation/emptyspace_sparse_medium', 'navigation/emptyspace_withinsight', 'navigation/honeypot', 'navigation/knotty', 'navigation/labyrinth', 'navigation/memory_palace', 'navigation/obstacles0', 'navigation/obstacles1', 'navigation/obstacles2', 'navigation/obstacles3', 'navigation/radial_large', 'navigation/radialmaze', 'navigation/radial_mini', 'navigation/radial_small', 'navigation/swirls', 'navigation/thecube', 'navigation/walkaround', 'navigation/walls_outofsight', 'navigation/walls_sparse', 'navigation/walls_withinsight', 'navigation/wanderout', 'systematic_exploration_memory/boxout', 'systematic_exploration_memory/choose_wisely', 'systematic_exploration_memory/corners', 'systematic_exploration_memory/hall_of_mirrors', 'systematic_exploration_memory/journey_home', 'systematic_exploration_memory/little_landmark_hard', 'systematic_exploration_memory/lobster_legs', 'systematic_exploration_memory/lobster_legs_cues', 'systematic_exploration_memory/memory_swirls', 'systematic_exploration_memory/memory_swirls_hard', 'systematic_exploration_memory/passing_things', 'systematic_exploration_memory/rooms', 'systematic_exploration_memory/spacey_memory', 'systematic_exploration_memory/tease', 'systematic_exploration_memory/venture_out', 'systematic_exploration_memory/you_shall_not_pass']\n",
      "🔍 Making POST request to: https://api.observatory.softmax-research.net/heatmap/metrics\n",
      "🔑 Headers: {'Content-Type': 'application/json', 'X-Auth-Token': ''}\n",
      "📦 Payload: {'training_run_ids': ['67bfefee-82ca-415d-9f00-7357640107d5', 'db04a711-77fb-4c4d-bee6-bfac77356980', 'fe6d7ecb-3f13-4cc9-9955-5af1341d2e2d', '807c8e5b-f112-49c5-b344-9e97cb4e3d91', 'db923221-6a2c-489f-810e-8c835c502244', '74dcf322-ba33-4ab3-a0cc-6d5f5756ab93', 'a4b27392-e2d4-4353-a563-70c2cbf39e21', 'a23fae54-0001-499a-8c86-a9083ad48c35', '98ebe886-6521-4a76-9d31-7dfc69f21209', 'ce7bc1ae-fae9-4dd1-8e6f-bec70c1e00e2', '7f754633-3908-40c6-a75a-28010ac85be4', 'ba5f428e-91f9-42ff-82bf-9d5462022d6c', '998cef5e-f72b-4a27-a697-d6805808ccc9', '25f02ab4-4451-4c8b-8f7f-44fc4f125e6f', '50200440-af4c-4b10-b83a-39d44c207b5a', '428ff90b-3936-4641-9fda-767dd17ecf9a', '5f9c0930-e905-4910-a91a-9205e730b8da', 'd69ae7fe-cac4-452e-af1e-1bf79b33fcfd', '47d4c347-9b60-4893-9e5c-d2354821c9ed', '3b207597-c4b4-440a-ac55-75da90251a3d', 'de9ff29d-d8d8-41f2-b57b-211089fd432e', '9806ed7d-04e5-4112-b38d-ca4e91a8231b', '619930b0-fc19-4ed1-9eb0-4974fefdedb5', '9ce1b2b0-e806-45db-8471-ec72f9e3b21a', '4f5bd1e2-64ef-4cd1-8a76-c96c0cf460c1', '604a6f6f-445a-4172-a06e-42e1c2bc0fc0', '7f69b9ad-ce67-4e44-b955-92a8d13058a5', 'd06d917f-060f-4b5f-a3bf-b67b6ea4ecce', 'f74ac910-f055-45f6-b5b4-bf47484a8cde', '58c41b73-13af-4bc8-91e4-3ef69a42f162', 'de3365fa-f8a0-45b9-be23-88a2be8e06de', '759639d2-5ece-4e1b-b211-b05db9150571', 'b75e3561-7391-4b5d-ae49-720db421188f', 'f2645d83-6ade-42d8-be4e-e632c47cc93e', '756c277a-5090-4f9a-88eb-43a041480208', '1ba2257e-a655-4b5c-9115-2d95c240030a', '5d7268be-29e5-4191-b13b-c429431d27b6', 'd4554ee6-9552-4624-8e37-a64491e8472d', '9478ba62-06b0-4aaf-8644-2a7e9af39557', 'f5fe5a7f-e074-4204-b9d8-58487260fee9', 'cc1b0fe0-82d9-4f5b-bdbe-93480723099f', '19c73d62-28fa-4cf5-92db-d447acc60511', 'bc416727-ea95-40ba-b599-e3e659e46f7d', '784a2738-c826-4b3e-9156-43bd7300724f', '0293bef6-cbb6-4794-8967-fdb9daf368a2', '62f48dbe-7c98-496f-b85a-36a29ad14e72', '5ed836e1-8794-464e-b227-5b8bc6173c7e', '7501b2a7-9e83-4e31-bff3-73d45d78d01f', '6d06945f-d0dd-4d09-8e38-1bad377a13fe', '92006d07-d26b-4a4e-8a32-505c91294223', '11459165-4fee-4533-a7c5-f10d3b0258c0', 'ca06c7e5-44f9-4f17-a589-f14c1ae7a537', '1cbb8e7e-5af6-4af3-b95b-46cfb17d824b', 'd74e0bbd-f882-4b6a-8529-7da517299eed', '81f10a18-3e92-472a-9858-f6d69ece4ee5', 'cfe9bf0c-d1f6-41da-a4cb-ee7564b53804', 'bf7df3be-f26f-43b7-be8e-6ea22998f120', '206f3870-274a-4960-9adb-d1ef18f12e11', 'a0e5ed62-d45b-4092-8208-f80a9272a765', '6d0de4b6-7923-467a-902e-84a2d3a27c95', '8cbd84fe-ff36-43ea-9cf5-23d08c01dd0e', '16be76a7-d4f5-49f7-8b41-ed3a5e91da06', 'd09dd1bb-4f2f-4780-9227-d614f580f8bf', '3bfb5592-a696-49db-94f2-5ba4b3d5019b', '5859169c-0141-407e-bdd9-f9b79a000c78', '65d45156-cd22-400c-99a9-0df50a83985e', '2522e552-dc9b-4ffa-8577-8cce298f15a3', '8a057239-a51f-40c3-9009-b7ac170dfc95', '58fe3f85-bf92-48e7-ab55-070916e15f96', '82fd35aa-aa89-4ed1-9219-7c19764b8800', 'b54e1dba-2636-43ae-9240-09b7fd7c0576', '83324eeb-b02a-43e7-96c2-6889c0e1810b', 'eff8106a-e490-4145-98dc-0acefc60c923', 'c164752c-6a17-4f27-8084-8354000e18d1', 'd580be46-45da-4ae5-a61e-3830db540d4c', '3440bc9f-5cbf-40a9-8f19-193f4f270567', 'dd30dab2-9d50-4f3b-b9c5-900f3ffec31d', 'dee05342-2a13-4dad-a8c0-a6523d476a67', '16a17780-5c5e-4348-875b-d1f74709a9c4', 'e9253d88-7e26-41c2-bf81-784e873de88d', '7b53229c-a657-46de-a777-30fefd19aa45', '5c94c301-15f1-4983-be37-e9ef7d3aee33', 'd3bef90d-271c-4fb9-a823-97ce99555896', '5d28c49b-ace6-413b-a801-d958a1630e59', '31db1884-7c53-49af-957a-41dcd98d6ad5', '80435d1e-3098-4106-ab61-2dc4d93e41d7', 'edbc5879-ab6d-44c1-9131-ef27c8f98be8'], 'run_free_policy_ids': [], 'eval_names': ['arena/advanced', 'arena/advanced_poor', 'arena/basic', 'arena/combat', 'arena/tag', 'eval/training_task', 'navigation/corridors', 'navigation/cylinder', 'navigation/cylinder_easy', 'navigation/emptyspace_outofsight', 'navigation/emptyspace_sparse', 'navigation/emptyspace_sparse_medium', 'navigation/emptyspace_withinsight', 'navigation/honeypot', 'navigation/knotty', 'navigation/labyrinth', 'navigation/memory_palace', 'navigation/obstacles0', 'navigation/obstacles1', 'navigation/obstacles2', 'navigation/obstacles3', 'navigation/radial_large', 'navigation/radialmaze', 'navigation/radial_mini', 'navigation/radial_small', 'navigation/swirls', 'navigation/thecube', 'navigation/walkaround', 'navigation/walls_outofsight', 'navigation/walls_sparse', 'navigation/walls_withinsight', 'navigation/wanderout', 'systematic_exploration_memory/boxout', 'systematic_exploration_memory/choose_wisely', 'systematic_exploration_memory/corners', 'systematic_exploration_memory/hall_of_mirrors', 'systematic_exploration_memory/journey_home', 'systematic_exploration_memory/little_landmark_hard', 'systematic_exploration_memory/lobster_legs', 'systematic_exploration_memory/lobster_legs_cues', 'systematic_exploration_memory/memory_swirls', 'systematic_exploration_memory/memory_swirls_hard', 'systematic_exploration_memory/passing_things', 'systematic_exploration_memory/rooms', 'systematic_exploration_memory/spacey_memory', 'systematic_exploration_memory/tease', 'systematic_exploration_memory/venture_out', 'systematic_exploration_memory/you_shall_not_pass']}\n",
      "📨 Response status: 200\n",
      "🔍 Making POST request to: https://api.observatory.softmax-research.net/heatmap/heatmap\n",
      "🔑 Headers: {'Content-Type': 'application/json', 'X-Auth-Token': ''}\n",
      "📦 Payload: {'training_run_ids': ['67bfefee-82ca-415d-9f00-7357640107d5', 'db04a711-77fb-4c4d-bee6-bfac77356980', 'fe6d7ecb-3f13-4cc9-9955-5af1341d2e2d', '807c8e5b-f112-49c5-b344-9e97cb4e3d91', 'db923221-6a2c-489f-810e-8c835c502244', '74dcf322-ba33-4ab3-a0cc-6d5f5756ab93', 'a4b27392-e2d4-4353-a563-70c2cbf39e21', 'a23fae54-0001-499a-8c86-a9083ad48c35', '98ebe886-6521-4a76-9d31-7dfc69f21209', 'ce7bc1ae-fae9-4dd1-8e6f-bec70c1e00e2', '7f754633-3908-40c6-a75a-28010ac85be4', 'ba5f428e-91f9-42ff-82bf-9d5462022d6c', '998cef5e-f72b-4a27-a697-d6805808ccc9', '25f02ab4-4451-4c8b-8f7f-44fc4f125e6f', '50200440-af4c-4b10-b83a-39d44c207b5a', '428ff90b-3936-4641-9fda-767dd17ecf9a', '5f9c0930-e905-4910-a91a-9205e730b8da', 'd69ae7fe-cac4-452e-af1e-1bf79b33fcfd', '47d4c347-9b60-4893-9e5c-d2354821c9ed', '3b207597-c4b4-440a-ac55-75da90251a3d', 'de9ff29d-d8d8-41f2-b57b-211089fd432e', '9806ed7d-04e5-4112-b38d-ca4e91a8231b', '619930b0-fc19-4ed1-9eb0-4974fefdedb5', '9ce1b2b0-e806-45db-8471-ec72f9e3b21a', '4f5bd1e2-64ef-4cd1-8a76-c96c0cf460c1', '604a6f6f-445a-4172-a06e-42e1c2bc0fc0', '7f69b9ad-ce67-4e44-b955-92a8d13058a5', 'd06d917f-060f-4b5f-a3bf-b67b6ea4ecce', 'f74ac910-f055-45f6-b5b4-bf47484a8cde', '58c41b73-13af-4bc8-91e4-3ef69a42f162', 'de3365fa-f8a0-45b9-be23-88a2be8e06de', '759639d2-5ece-4e1b-b211-b05db9150571', 'b75e3561-7391-4b5d-ae49-720db421188f', 'f2645d83-6ade-42d8-be4e-e632c47cc93e', '756c277a-5090-4f9a-88eb-43a041480208', '1ba2257e-a655-4b5c-9115-2d95c240030a', '5d7268be-29e5-4191-b13b-c429431d27b6', 'd4554ee6-9552-4624-8e37-a64491e8472d', '9478ba62-06b0-4aaf-8644-2a7e9af39557', 'f5fe5a7f-e074-4204-b9d8-58487260fee9', 'cc1b0fe0-82d9-4f5b-bdbe-93480723099f', '19c73d62-28fa-4cf5-92db-d447acc60511', 'bc416727-ea95-40ba-b599-e3e659e46f7d', '784a2738-c826-4b3e-9156-43bd7300724f', '0293bef6-cbb6-4794-8967-fdb9daf368a2', '62f48dbe-7c98-496f-b85a-36a29ad14e72', '5ed836e1-8794-464e-b227-5b8bc6173c7e', '7501b2a7-9e83-4e31-bff3-73d45d78d01f', '6d06945f-d0dd-4d09-8e38-1bad377a13fe', '92006d07-d26b-4a4e-8a32-505c91294223', '11459165-4fee-4533-a7c5-f10d3b0258c0', 'ca06c7e5-44f9-4f17-a589-f14c1ae7a537', '1cbb8e7e-5af6-4af3-b95b-46cfb17d824b', 'd74e0bbd-f882-4b6a-8529-7da517299eed', '81f10a18-3e92-472a-9858-f6d69ece4ee5', 'cfe9bf0c-d1f6-41da-a4cb-ee7564b53804', 'bf7df3be-f26f-43b7-be8e-6ea22998f120', '206f3870-274a-4960-9adb-d1ef18f12e11', 'a0e5ed62-d45b-4092-8208-f80a9272a765', '6d0de4b6-7923-467a-902e-84a2d3a27c95', '8cbd84fe-ff36-43ea-9cf5-23d08c01dd0e', '16be76a7-d4f5-49f7-8b41-ed3a5e91da06', 'd09dd1bb-4f2f-4780-9227-d614f580f8bf', '3bfb5592-a696-49db-94f2-5ba4b3d5019b', '5859169c-0141-407e-bdd9-f9b79a000c78', '65d45156-cd22-400c-99a9-0df50a83985e', '2522e552-dc9b-4ffa-8577-8cce298f15a3', '8a057239-a51f-40c3-9009-b7ac170dfc95', '58fe3f85-bf92-48e7-ab55-070916e15f96', '82fd35aa-aa89-4ed1-9219-7c19764b8800', 'b54e1dba-2636-43ae-9240-09b7fd7c0576', '83324eeb-b02a-43e7-96c2-6889c0e1810b', 'eff8106a-e490-4145-98dc-0acefc60c923', 'c164752c-6a17-4f27-8084-8354000e18d1', 'd580be46-45da-4ae5-a61e-3830db540d4c', '3440bc9f-5cbf-40a9-8f19-193f4f270567', 'dd30dab2-9d50-4f3b-b9c5-900f3ffec31d', 'dee05342-2a13-4dad-a8c0-a6523d476a67', '16a17780-5c5e-4348-875b-d1f74709a9c4', 'e9253d88-7e26-41c2-bf81-784e873de88d', '7b53229c-a657-46de-a777-30fefd19aa45', '5c94c301-15f1-4983-be37-e9ef7d3aee33', 'd3bef90d-271c-4fb9-a823-97ce99555896', '5d28c49b-ace6-413b-a801-d958a1630e59', '31db1884-7c53-49af-957a-41dcd98d6ad5', '80435d1e-3098-4106-ab61-2dc4d93e41d7', 'edbc5879-ab6d-44c1-9131-ef27c8f98be8'], 'run_free_policy_ids': [], 'eval_names': ['arena/advanced', 'arena/advanced_poor', 'arena/basic', 'arena/combat', 'arena/tag', 'eval/training_task', 'navigation/corridors', 'navigation/cylinder', 'navigation/cylinder_easy', 'navigation/emptyspace_outofsight', 'navigation/emptyspace_sparse', 'navigation/emptyspace_sparse_medium', 'navigation/emptyspace_withinsight', 'navigation/honeypot', 'navigation/knotty', 'navigation/labyrinth', 'navigation/memory_palace', 'navigation/obstacles0', 'navigation/obstacles1', 'navigation/obstacles2', 'navigation/obstacles3', 'navigation/radial_large', 'navigation/radialmaze', 'navigation/radial_mini', 'navigation/radial_small', 'navigation/swirls', 'navigation/thecube', 'navigation/walkaround', 'navigation/walls_outofsight', 'navigation/walls_sparse', 'navigation/walls_withinsight', 'navigation/wanderout', 'systematic_exploration_memory/boxout', 'systematic_exploration_memory/choose_wisely', 'systematic_exploration_memory/corners', 'systematic_exploration_memory/hall_of_mirrors', 'systematic_exploration_memory/journey_home', 'systematic_exploration_memory/little_landmark_hard', 'systematic_exploration_memory/lobster_legs', 'systematic_exploration_memory/lobster_legs_cues', 'systematic_exploration_memory/memory_swirls', 'systematic_exploration_memory/memory_swirls_hard', 'systematic_exploration_memory/passing_things', 'systematic_exploration_memory/rooms', 'systematic_exploration_memory/spacey_memory', 'systematic_exploration_memory/tease', 'systematic_exploration_memory/venture_out', 'systematic_exploration_memory/you_shall_not_pass'], 'metric': 'reward', 'training_run_policy_selector': 'best'}\n",
      "📨 Response status: 200\n",
      "🚀 HeatmapWidget initialized successfully!\n",
      "📊 Multi-metric data set with 50 policies and 48 evaluations\n",
      "📈 Available metrics: reward\n",
      "📈 Selected metric: reward\n"
     ]
    },
    {
     "data": {
      "application/vnd.jupyter.widget-view+json": {
       "model_id": "86a43eda452042f3a4be5e62a829fb63",
       "version_major": 2,
       "version_minor": 1
      },
      "text/plain": [
       "HeatmapWidget(heatmap_data={'cells': {'yudhister.recipes.arena.2x4.efficiency_baseline.07-24-00-17:v19': {'are…"
      ]
     },
     "execution_count": 160,
     "metadata": {},
     "output_type": "execute_result"
    }
   ],
   "source": [
    "# For now, let's try with some common metrics and see what we find:\n",
    "real_heatmap = None\n",
    "try:\n",
    "    # specific_runs = [\n",
    "    #     \"daveey.arena.rnd.16x4.2\",\n",
    "    #     \"relh.skypilot.fff.j20.666\",\n",
    "    #     \"bullm.navigation.low_reward.baseline\",\n",
    "    #     \"bullm.navigation.low_reward.baseline.07-17\", \n",
    "    #     \"bullm.navigation.low_reward.baseline.07-23\",\n",
    "    #     \"relh.multigpu.fff.1\",\n",
    "    #     \"relh.skypilot.fff.j21.2\",\n",
    "    # ]\n",
    "    \n",
    "    # Common metrics that are likely to exist:\n",
    "    metrics_to_fetch = [\"reward\", \"heart.get\", \"ore_red.get\", \"action.move.success\"]\n",
    "\n",
    "    print(api_base_url)\n",
    "    client = MettaAPIClient(api_base_url, auth_token)\n",
    "    runs = await client.get_all_training_runs()\n",
    "    run_names = [policy[\"name\"] for policy in runs[\"policies\"]]\n",
    "    \n",
    "    real_heatmap = await fetch_real_heatmap_data(\n",
    "        api_base_url=api_base_url,\n",
    "        auth_token=auth_token,\n",
    "        training_run_names=run_names,\n",
    "        metrics=metrics_to_fetch,\n",
    "        max_policies=50  # Limit display to keep it manageable\n",
    "    )\n",
    "    \n",
    "    # Display the widget\n",
    "    real_heatmap\n",
    "    \n",
    "except Exception as e:\n",
    "    print(f\"❌ Error fetching real data: {e}\")\n",
    "    print(\"💡 This might happen if:\")\n",
    "    print(\"   - The database URI is incorrect\")\n",
    "    print(\"   - You're not authenticated with wandb\")\n",
    "    print(\"   - The specified metrics don't exist in the database\")\n",
    "    print(\"   - You don't have access to the database\")\n",
    "    print(\"\\n🔄 Falling back to demo data...\")\n",
    "    \n",
    "    # Fall back to demo data if real data fails\n",
    "    from experiments.notebooks.utils.heatmap_widget import create_demo_heatmap\n",
    "    demo_fallback = create_demo_heatmap()\n",
    "    demo_fallback\n",
    "\n",
    "real_heatmap"
   ]
  },
  {
   "cell_type": "markdown",
   "metadata": {
    "vscode": {
     "languageId": "raw"
    }
   },
   "source": [
    "## Advanced Usage: Custom Training Runs and Metrics\n",
    "\n",
    "Here's how to create a heatmap with your own training runs and metrics using the smart policy selection:\n"
   ]
  },
  {
   "cell_type": "code",
   "execution_count": 161,
   "metadata": {},
   "outputs": [
    {
     "name": "stdout",
     "output_type": "stream",
     "text": [
      "🎯 Creating custom heatmap with best policies from training runs...\n",
      "https://api.observatory.softmax-research.net\n",
      "🔍 Making POST request to: https://api.observatory.softmax-research.net/heatmap/policies\n",
      "🔑 Headers: {'Content-Type': 'application/json', 'X-Auth-Token': ''}\n",
      "📦 Payload: {'search_text': None, 'pagination': {'page': 1, 'page_size': 100}}\n",
      "📨 Response status: 200\n",
      "🔍 Making POST request to: https://api.observatory.softmax-research.net/heatmap/evals\n",
      "🔑 Headers: {'Content-Type': 'application/json', 'X-Auth-Token': ''}\n",
      "📦 Payload: {'training_run_ids': ['bf7df3be-f26f-43b7-be8e-6ea22998f120', '5c94c301-15f1-4983-be37-e9ef7d3aee33'], 'run_free_policy_ids': []}\n",
      "📨 Response status: 200\n",
      "https://api.observatory.softmax-research.net\n",
      "🔍 Attempting to get metrics for 6 eval names...\n",
      "📋 Eval names: ['arena/advanced', 'arena/advanced_poor', 'arena/basic', 'arena/combat', 'arena/tag', 'eval/training_task']\n",
      "🔍 Making POST request to: https://api.observatory.softmax-research.net/heatmap/metrics\n",
      "🔑 Headers: {'Content-Type': 'application/json', 'X-Auth-Token': ''}\n",
      "📦 Payload: {'training_run_ids': ['bf7df3be-f26f-43b7-be8e-6ea22998f120', '5c94c301-15f1-4983-be37-e9ef7d3aee33'], 'run_free_policy_ids': [], 'eval_names': ['arena/advanced', 'arena/advanced_poor', 'arena/basic', 'arena/combat', 'arena/tag', 'eval/training_task']}\n",
      "📨 Response status: 200\n",
      "🔍 Making POST request to: https://api.observatory.softmax-research.net/heatmap/heatmap\n",
      "🔑 Headers: {'Content-Type': 'application/json', 'X-Auth-Token': ''}\n",
      "📦 Payload: {'training_run_ids': ['bf7df3be-f26f-43b7-be8e-6ea22998f120', '5c94c301-15f1-4983-be37-e9ef7d3aee33'], 'run_free_policy_ids': [], 'eval_names': ['arena/advanced', 'arena/advanced_poor', 'arena/basic', 'arena/combat', 'arena/tag', 'eval/training_task'], 'metric': 'reward', 'training_run_policy_selector': 'best'}\n",
      "📨 Response status: 200\n",
      "🚀 HeatmapWidget initialized successfully!\n",
      "📊 Multi-metric data set with 2 policies and 6 evaluations\n",
      "📈 Available metrics: reward\n",
      "📈 Selected metric: reward\n",
      "📊 Custom heatmap created! Try:\n",
      "   - Hovering over cells to see detailed values\n",
      "   - Changing metrics with: custom_heatmap.update_metric('heart.get')\n",
      "   - Adjusting policies shown: custom_heatmap.set_num_policies(15)\n"
     ]
    }
   ],
   "source": [
    "# Example: Create a custom heatmap with specific training runs and metrics\n",
    "\n",
    "# Option 1: Use training run names (recommended - uses smart selection)\n",
    "my_training_runs = [\n",
    "    # Add your training run names here, for example:\n",
    "    \"relh.multigpu.fff.1\",\n",
    "    \"relh.skypilot.fff.j21.2\",\n",
    "    \"relh.skypilot.fff.j20.666\",\n",
    "]\n",
    "\n",
    "# Option 2: Use exact policy URIs (if you know exactly which ones you want)\n",
    "my_specific_policies = [\n",
    "    # Add exact policy URIs here, for example:\n",
    "    # \"my_policy_name:v123\",\n",
    "    # \"baseline_experiment:v456\",\n",
    "    # \"new_approach:v789\"\n",
    "]\n",
    "\n",
    "# Step 2: Define metrics you want to compare\n",
    "my_metrics = [\n",
    "    \"reward\",\n",
    "    \"heart.get\",           # Example game-specific metric\n",
    "    \"action.move.success\", # Example action success rate\n",
    "    # Add more metrics as needed\n",
    "]\n",
    "\n",
    "# Step 3: Optional - filter to specific evaluations\n",
    "# eval_filter = \"sim_env LIKE '%maze%'\"  # Only maze environments\n",
    "# eval_filter = \"sim_env LIKE '%combat%'\"  # Only combat environments  \n",
    "eval_filter = None  # No filter - include all evaluations\n",
    "\n",
    "# Step 4: Create the heatmap\n",
    "if my_training_runs:  # Use smart policy selection from training runs\n",
    "    print(\"🎯 Creating custom heatmap with best policies from training runs...\")\n",
    "    \n",
    "    # Select best policies from training runs\n",
    "    custom_heatmap = await fetch_real_heatmap_data(\n",
    "        api_base_url=api_base_url,\n",
    "        auth_token=auth_token,\n",
    "        training_run_names=my_training_runs,\n",
    "        metrics=my_metrics,\n",
    "        policy_selector=\"best\",\n",
    "        max_policies=20\n",
    "    )\n",
    "    \n",
    "    print(\"📊 Custom heatmap created! Try:\")\n",
    "    print(\"   - Hovering over cells to see detailed values\")\n",
    "    print(\"   - Changing metrics with: custom_heatmap.update_metric('heart.get')\")\n",
    "    print(\"   - Adjusting policies shown: custom_heatmap.set_num_policies(15)\")\n",
    "    \n",
    "    custom_heatmap\n",
    "    \n",
    "else:\n",
    "    print(\"📝 To use this example:\")\n",
    "    print(\"   - Add your training run names to 'my_training_runs' list above\")"
   ]
  },
  {
   "cell_type": "markdown",
   "metadata": {
    "vscode": {
     "languageId": "raw"
    }
   },
   "source": [
    "## Available Evaluation Database URIs\n",
    "\n",
    "You can choose from several different evaluation databases depending on what type of data you want to analyze:\n"
   ]
  },
  {
   "cell_type": "markdown",
   "metadata": {
    "vscode": {
     "languageId": "raw"
    }
   },
   "source": [
    "## Advanced Usage: Custom Policies and Metrics\n",
    "\n",
    "Here's how to create a heatmap with specific policies and metrics of your choice:\n"
   ]
  },
  {
   "cell_type": "code",
   "execution_count": 162,
   "metadata": {},
   "outputs": [
    {
     "name": "stdout",
     "output_type": "stream",
     "text": [
      "📝 To use this example:\n",
      "1. Uncomment the exploration code in the previous cell to see available policies\n",
      "2. Add your policy names to the 'my_policies' list above\n",
      "3. Customize the 'my_metrics' list with metrics you're interested in\n",
      "4. Run this cell again\n",
      "\n",
      "💡 Example policy names might look like:\n",
      "   - 'my_policy_name:v123'\n",
      "   - 'baseline_experiment:v456'\n",
      "   - 'new_approach:v789'\n"
     ]
    }
   ],
   "source": [
    "# Example: Create a custom heatmap with specific policies and metrics\n",
    "\n",
    "# Step 1: Define your policies of interest\n",
    "my_policies = [\n",
    "    # Add your policy names here, for example:\n",
    "    # \"my_experiment_1:v100\",\n",
    "    # \"my_experiment_2:v200\", \n",
    "    # \"baseline_policy:v50\"\n",
    "]\n",
    "\n",
    "# Step 2: Define metrics you want to compare\n",
    "my_metrics = [\n",
    "    \"reward\",\n",
    "    \"heart.get\",           # Example game-specific metric\n",
    "    \"action.move.success\", # Example action success rate\n",
    "    # Add more metrics as needed\n",
    "]\n",
    "\n",
    "# Step 3: Optional - filter to specific evaluations\n",
    "# eval_filter = \"sim_env LIKE '%maze%'\"  # Only maze environments\n",
    "# eval_filter = \"sim_env LIKE '%combat%'\"  # Only combat environments  \n",
    "eval_filter = None  # No filter - include all evaluations\n",
    "\n",
    "# Step 4: Create the heatmap\n",
    "custom_heatmap = None\n",
    "if my_policies:  # Only run if you've specified policies\n",
    "    print(\"🎯 Creating custom heatmap...\")\n",
    "    custom_heatmap = fetch_real_heatmap_data(\n",
    "        api_base_url=api_base_url,\n",
    "        auth_token=auth_token,\n",
    "        training_run_names=my_policies,\n",
    "        metrics=my_metrics,\n",
    "        max_policies=20\n",
    "    )\n",
    "    \n",
    "    # Step 5: Display and interact\n",
    "    print(\"📊 Custom heatmap created! Try:\")\n",
    "    print(\"   - Hovering over cells to see detailed values\")\n",
    "    print(\"   - Changing metrics with: custom_heatmap.update_metric('heart.get')\")\n",
    "    print(\"   - Adjusting policies shown: custom_heatmap.set_num_policies(15)\")\n",
    "\n",
    "else:\n",
    "    print(\"📝 To use this example:\")\n",
    "    print(\"1. Uncomment the exploration code in the previous cell to see available policies\")\n",
    "    print(\"2. Add your policy names to the 'my_policies' list above\") \n",
    "    print(\"3. Customize the 'my_metrics' list with metrics you're interested in\")\n",
    "    print(\"4. Run this cell again\")\n",
    "    print(\"\\n💡 Example policy names might look like:\")\n",
    "    print(\"   - 'my_policy_name:v123'\")\n",
    "    print(\"   - 'baseline_experiment:v456'\") \n",
    "    print(\"   - 'new_approach:v789'\")\n",
    "\n",
    "custom_heatmap"
   ]
  },
  {
   "cell_type": "markdown",
   "metadata": {
    "vscode": {
     "languageId": "raw"
    }
   },
   "source": [
    "## Example 4: Multiple Metrics with Working selectedMetric\n",
    "\n",
    "Now let's see the `selectedMetric` functionality working properly! This example shows a heatmap where changing the metric actually changes the displayed values:\n"
   ]
  },
  {
   "cell_type": "code",
   "execution_count": 163,
   "metadata": {},
   "outputs": [
    {
     "name": "stdout",
     "output_type": "stream",
     "text": [
      "🎯 Creating multi-metric demo heatmap widget...\n",
      "🚀 HeatmapWidget initialized successfully!\n",
      "📊 Multi-metric data set with 3 policies and 4 evaluations\n",
      "📈 Available metrics: reward, episode_length, success_rate, completion_time\n",
      "📈 Selected metric: reward\n",
      "✅ Multi-metric demo heatmap widget created!\n",
      "📈 Try widget.update_metric('episode_length') to see values change!\n"
     ]
    },
    {
     "data": {
      "application/vnd.jupyter.widget-view+json": {
       "model_id": "12779f7e85594cb08025966b065d4ad4",
       "version_major": 2,
       "version_minor": 1
      },
      "text/plain": [
       "HeatmapWidget(heatmap_data={'cells': {'policy_alpha_v1': {'navigation/maze1': {'metrics': {'reward': 85.2, 'ep…"
      ]
     },
     "execution_count": 163,
     "metadata": {},
     "output_type": "execute_result"
    }
   ],
   "source": [
    "# Create a multi-metric heatmap widget\n",
    "from experiments.notebooks.utils.heatmap_widget import create_multi_metric_demo\n",
    "\n",
    "multi_metric_widget = create_multi_metric_demo()\n",
    "\n",
    "# Display the widget\n",
    "multi_metric_widget\n"
   ]
  },
  {
   "cell_type": "code",
   "execution_count": 164,
   "metadata": {},
   "outputs": [
    {
     "name": "stdout",
     "output_type": "stream",
     "text": [
      "🔄 Changing metric to 'episode_length'...\n",
      "📊 Metric changed to: episode_length\n"
     ]
    }
   ],
   "source": [
    "# Now try changing the metric to see the values actually change!\n",
    "print(\"🔄 Changing metric to 'episode_length'...\")\n",
    "multi_metric_widget.update_metric('episode_length')\n",
    "\n",
    "# NOTE: Notice how the values in the heatmap widget change as you switch\n",
    "# metrics?  Do not display the widget again and try to change that. That ends up\n",
    "# creating a seperate copy of the widget in a new output cell.  Instead just\n",
    "# reference the one you originally rendered, call its functions, and watch it\n",
    "# change in its Juypter notebook cell. Like we just did. Let's do it again in\n",
    "# the next cell too.\n"
   ]
  },
  {
   "cell_type": "code",
   "execution_count": 165,
   "metadata": {},
   "outputs": [
    {
     "name": "stdout",
     "output_type": "stream",
     "text": [
      "\n",
      "🔄 Changing metric to 'success_rate'...\n",
      "📊 Metric changed to: success_rate\n"
     ]
    }
   ],
   "source": [
    "# One more time. Run this cell then scroll back up again to see the change.\n",
    "print(\"\\n🔄 Changing metric to 'success_rate'...\")\n",
    "multi_metric_widget.update_metric('success_rate')\n"
   ]
  },
  {
   "cell_type": "code",
   "execution_count": 166,
   "metadata": {},
   "outputs": [
    {
     "name": "stdout",
     "output_type": "stream",
     "text": [
      "\n",
      "🔄 Changing metric to 'success_rate'...\n",
      "📈 Metric already set to: success_rate\n"
     ]
    }
   ],
   "source": [
    "# Last one. Scroll up again to see the change.\n",
    "print(\"\\n🔄 Changing metric to 'success_rate'...\")\n",
    "multi_metric_widget.update_metric('success_rate')\n"
   ]
  },
  {
   "cell_type": "markdown",
   "metadata": {},
   "source": [
    "# Custom metrics\n",
    "\n",
    "We can really define our cells to have any metric data we want. This is useful because we plan to have all sorts of metrics. Let's look at an example of using any old metric we decide.\n",
    "\n",
    "Here's how to create a heatmap with your own data:\n"
   ]
  },
  {
   "cell_type": "code",
   "execution_count": 167,
   "metadata": {},
   "outputs": [
    {
     "name": "stdout",
     "output_type": "stream",
     "text": [
      "🚀 HeatmapWidget initialized successfully!\n",
      "📊 Data set with 2 policies and 3 evaluations\n",
      "📈 Selected metric: custom_score\n"
     ]
    },
    {
     "data": {
      "application/vnd.jupyter.widget-view+json": {
       "model_id": "54d9ee340c7a488d93c75bfd92f84dd8",
       "version_major": 2,
       "version_minor": 1
      },
      "text/plain": [
       "HeatmapWidget(heatmap_data={'cells': {'my_policy_v1': {'task_a/level1': {'metrics': {'custom_score': 85.2}, 'r…"
      ]
     },
     "execution_count": 167,
     "metadata": {},
     "output_type": "execute_result"
    }
   ],
   "source": [
    "# Create a new heatmap widget\n",
    "custom_widget = create_heatmap_widget()\n",
    "\n",
    "# Define your data structure\n",
    "# This should match the format expected by the observatory dashboard\n",
    "cells_data = {\n",
    "    'my_policy_v1': {\n",
    "        'task_a/level1': {\n",
    "            'metrics': {\n",
    "                'custom_score': 85.2,\n",
    "            },\n",
    "            'replayUrl': 'https://example.com/replay1.json', \n",
    "            'evalName': 'task_a/level1'\n",
    "        },\n",
    "        'task_a/level2': {\n",
    "            'metrics': {\n",
    "                'custom_score': 87.5,\n",
    "            },\n",
    "            'replayUrl': 'https://example.com/replay2.json', \n",
    "            'evalName': 'task_a/level2'\n",
    "        },\n",
    "        'task_b/challenge1': {\n",
    "            'metrics': {\n",
    "                'custom_score': 92.5,\n",
    "            },\n",
    "            'replayUrl': 'https://example.com/replay3.json', \n",
    "            'evalName': 'task_b/challenge1'\n",
    "        },\n",
    "    },\n",
    "    'my_policy_v2': {\n",
    "        'task_a/level1': {\n",
    "            'metrics': {\n",
    "                'custom_score': 22.5,\n",
    "            },\n",
    "            'replayUrl': 'https://example.com/replay4.json', \n",
    "            'evalName': 'task_a/level1'\n",
    "        },\n",
    "        'task_a/level2': {\n",
    "            'metrics': {\n",
    "                'custom_score': 42.5,\n",
    "            },\n",
    "            'replayUrl': 'https://example.com/replay5.json', \n",
    "            'evalName': 'task_a/level2'\n",
    "        },\n",
    "        'task_b/challenge1': {\n",
    "            'metrics': {\n",
    "                'custom_score': 62.5,\n",
    "            },\n",
    "            'replayUrl': 'https://example.com/replay6.json', \n",
    "            'evalName': 'task_b/challenge1'\n",
    "        },\n",
    "    },\n",
    "}\n",
    "\n",
    "eval_names = ['task_a/level1', 'task_a/level2', 'task_b/challenge1']\n",
    "policy_names = ['my_policy_v1', 'my_policy_v2']\n",
    "policy_averages = {\n",
    "    'my_policy_v1': 91.6,\n",
    "    'my_policy_v2': 89.6,\n",
    "}\n",
    "\n",
    "# Set the data\n",
    "custom_widget.set_data(\n",
    "    cells=cells_data,\n",
    "    eval_names=eval_names,\n",
    "    policy_names=policy_names,\n",
    "    policy_average_scores=policy_averages,\n",
    "    selected_metric=\"custom_score\"\n",
    ")\n",
    "\n",
    "# Display the widget\n",
    "custom_widget\n"
   ]
  },
  {
   "cell_type": "markdown",
   "metadata": {
    "vscode": {
     "languageId": "raw"
    }
   },
   "source": [
    "## Adding Callbacks for Interactivity\n",
    "\n",
    "You can add Python callbacks to respond to user interactions:\n"
   ]
  },
  {
   "cell_type": "code",
   "execution_count": 168,
   "metadata": {},
   "outputs": [
    {
     "name": "stdout",
     "output_type": "stream",
     "text": [
      "🚀 HeatmapWidget initialized successfully!\n",
      "📊 Data set with 2 policies and 3 evaluations\n",
      "📈 Selected metric: Interactive Score (%)\n"
     ]
    },
    {
     "data": {
      "application/vnd.jupyter.widget-view+json": {
       "model_id": "292dfc956822486db05c86b3fc4dee39",
       "version_major": 2,
       "version_minor": 1
      },
      "text/plain": [
       "HeatmapWidget(heatmap_data={'cells': {'my_policy_v1': {'task_a/level1': {'metrics': {'custom_score': 85.2}, 'r…"
      ]
     },
     "execution_count": 168,
     "metadata": {},
     "output_type": "execute_result"
    }
   ],
   "source": [
    "# NOTE: these callbacks do not work with print(), and that's really just how\n",
    "# Jupyter widgets work.  Once the Jupyter python cell finishes running and\n",
    "# outputs a widget, that widget won't be able to affect the output of the cell\n",
    "# anymore. The only way to to print() from a python widget callback is to write\n",
    "# to a file (or use a thread maybe). I give an example below.\n",
    "\n",
    "# Create another widget for callback demonstration\n",
    "callback_widget = create_heatmap_widget()\n",
    "\n",
    "# Set up the same data as before\n",
    "callback_widget.set_data(\n",
    "    cells=cells_data,\n",
    "    eval_names=eval_names,\n",
    "    policy_names=policy_names,\n",
    "    policy_average_scores=policy_averages,\n",
    "    selected_metric=\"Interactive Score (%)\"\n",
    ")\n",
    "\n",
    "# Define callback functions\n",
    "def handle_cell_selection(cell_info):\n",
    "    \"\"\"Called when user hovers over a cell (not 'overall' column).\"\"\"\n",
    "    with open(\"output_cell_selection.txt\", \"w\") as f:\n",
    "        f.write(f\"📍 Cell selected: {cell_info['policyUri']} on evaluation '{cell_info['evalName']}'\")\n",
    "\n",
    "def handle_replay_opened(replay_info):\n",
    "    \"\"\"Called when user clicks to open a replay.\"\"\"\n",
    "    with open(\"output_replay_opened.txt\", \"w\") as f:\n",
    "        f.write(f\"🎬 Replay opened: {replay_info['replayUrl']}\")\n",
    "        f.write(f\"   Policy: {replay_info['policyUri']}\")\n",
    "        f.write(f\"   Evaluation: {replay_info['evalName']}\")\n",
    "\n",
    "# Register the callbacks\n",
    "callback_widget.on_cell_selected(handle_cell_selection)\n",
    "callback_widget.on_replay_opened(handle_replay_opened)\n",
    "\n",
    "# Display the widget\n",
    "callback_widget\n"
   ]
  },
  {
   "cell_type": "code",
   "execution_count": 169,
   "metadata": {},
   "outputs": [],
   "source": [
    "# Delete the files created by the callbacks in the previous cell, if they exist\n",
    "import os\n",
    "\n",
    "for fname in [\"output_cell_selection.txt\", \"output_replay_opened.txt\"]:\n",
    "    try:\n",
    "        with open(fname, \"r\") as f:\n",
    "            print(f.read())\n",
    "        os.remove(fname)\n",
    "        print(f\"File {fname} deleted\")\n",
    "    except FileNotFoundError:\n",
    "        pass\n"
   ]
  },
  {
   "cell_type": "markdown",
   "metadata": {
    "vscode": {
     "languageId": "raw"
    }
   },
   "source": [
    "**Try interacting with the heatmap above to see the callback messages printed to\n",
    "*output files!**\n",
    "\n",
    "## Data Format Reference\n",
    "\n",
    "The heatmap widget expects data in a specific format that matches the\n",
    "observatory dashboard:\n",
    "\n",
    "```python\n",
    "cells = {\n",
    "    'policy_name': {\n",
    "        'eval_name': {\n",
    "            'metrics': {\n",
    "                'reward': 50,\n",
    "                'heart.get': 98,\n",
    "                'action.move.success': 5,\n",
    "                'ore_red.get': 24.2,\n",
    "                # ... more metrics\n",
    "            },\n",
    "            'replayUrl': str,         # URL to replay file\n",
    "            'evalName': str,          # Should match the key\n",
    "        },\n",
    "        # ... more evaluations\n",
    "    },\n",
    "    # ... more policies\n",
    "}\n",
    "```\n",
    "\n",
    "**Important notes:**\n",
    "- Evaluation names with \"/\" will be grouped by category (the part before \"/\")\n",
    "- The heatmap shows policies sorted by average score (worst to best, bottom to top)\n",
    "- Policy names that contain \":v\" will have WandB URLs generated automatically\n",
    "- Replay URLs should be accessible URLs or file paths\n",
    "\n",
    "This widget provides the same interactive functionality as the observatory dashboard but in a python environment, making it perfect for exploratory analysis and sharing results via Jupyter notebooks!\n"
   ]
  }
 ],
 "metadata": {
  "kernelspec": {
   "display_name": ".venv",
   "language": "python",
   "name": "python3"
  },
  "language_info": {
   "codemirror_mode": {
    "name": "ipython",
    "version": 3
   },
   "file_extension": ".py",
   "mimetype": "text/x-python",
   "name": "python",
   "nbconvert_exporter": "python",
   "pygments_lexer": "ipython3",
   "version": "3.11.7"
  }
 },
 "nbformat": 4,
 "nbformat_minor": 4
}
